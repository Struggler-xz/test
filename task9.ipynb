{
 "cells": [
  {
   "cell_type": "code",
   "execution_count": 1,
   "metadata": {
    "ExecuteTime": {
     "end_time": "2019-08-25T02:54:40.528739Z",
     "start_time": "2019-08-25T02:54:40.052092Z"
    }
   },
   "outputs": [],
   "source": [
    "import pandas as pd\n",
    "import numpy as np\n",
    "from datetime import datetime"
   ]
  },
  {
   "cell_type": "code",
   "execution_count": 2,
   "metadata": {
    "ExecuteTime": {
     "end_time": "2019-08-25T02:56:09.218847Z",
     "start_time": "2019-08-25T02:56:09.204696Z"
    }
   },
   "outputs": [
    {
     "data": {
      "text/plain": [
       "datetime.datetime(2019, 8, 25, 10, 56, 9, 206085)"
      ]
     },
     "execution_count": 2,
     "metadata": {},
     "output_type": "execute_result"
    }
   ],
   "source": [
    "now = datetime.now()\n",
    "now"
   ]
  },
  {
   "cell_type": "code",
   "execution_count": 3,
   "metadata": {
    "ExecuteTime": {
     "end_time": "2019-08-25T02:56:18.329089Z",
     "start_time": "2019-08-25T02:56:18.323120Z"
    }
   },
   "outputs": [
    {
     "data": {
      "text/plain": [
       "(2019, 8, 25)"
      ]
     },
     "execution_count": 3,
     "metadata": {},
     "output_type": "execute_result"
    }
   ],
   "source": [
    "now.year, now.month, now.day"
   ]
  },
  {
   "cell_type": "markdown",
   "metadata": {},
   "source": [
    "datetime以毫秒形式存储日期和时间。timedelta表示两个datetime对象之间的时间差："
   ]
  },
  {
   "cell_type": "code",
   "execution_count": 4,
   "metadata": {
    "ExecuteTime": {
     "end_time": "2019-08-25T02:57:24.536729Z",
     "start_time": "2019-08-25T02:57:24.530481Z"
    }
   },
   "outputs": [
    {
     "data": {
      "text/plain": [
       "datetime.timedelta(926, 56700)"
      ]
     },
     "execution_count": 4,
     "metadata": {},
     "output_type": "execute_result"
    }
   ],
   "source": [
    "delta = datetime(2011, 1, 7) - datetime(2008, 6, 24, 8, 15)\n",
    "delta"
   ]
  },
  {
   "cell_type": "code",
   "execution_count": 7,
   "metadata": {
    "ExecuteTime": {
     "end_time": "2019-08-25T02:57:59.730833Z",
     "start_time": "2019-08-25T02:57:59.724968Z"
    }
   },
   "outputs": [
    {
     "data": {
      "text/plain": [
       "(926, 56700)"
      ]
     },
     "execution_count": 7,
     "metadata": {},
     "output_type": "execute_result"
    }
   ],
   "source": [
    "delta.days,delta.seconds"
   ]
  },
  {
   "cell_type": "markdown",
   "metadata": {},
   "source": [
    "可以给datetime对象加上（或减去）一个或多个timedelta，这样会产生一个新对象："
   ]
  },
  {
   "cell_type": "code",
   "execution_count": 8,
   "metadata": {
    "ExecuteTime": {
     "end_time": "2019-08-25T03:03:25.920579Z",
     "start_time": "2019-08-25T03:03:25.916509Z"
    }
   },
   "outputs": [],
   "source": [
    "from datetime import timedelta"
   ]
  },
  {
   "cell_type": "code",
   "execution_count": 9,
   "metadata": {
    "ExecuteTime": {
     "end_time": "2019-08-25T03:03:43.895234Z",
     "start_time": "2019-08-25T03:03:43.888979Z"
    }
   },
   "outputs": [
    {
     "data": {
      "text/plain": [
       "datetime.datetime(2011, 1, 19, 0, 0)"
      ]
     },
     "execution_count": 9,
     "metadata": {},
     "output_type": "execute_result"
    }
   ],
   "source": [
    "start = datetime(2011, 1, 7)\n",
    "start + timedelta(12)"
   ]
  },
  {
   "cell_type": "code",
   "execution_count": 10,
   "metadata": {
    "ExecuteTime": {
     "end_time": "2019-08-25T03:03:54.082192Z",
     "start_time": "2019-08-25T03:03:54.076152Z"
    },
    "collapsed": true
   },
   "outputs": [
    {
     "data": {
      "text/plain": [
       "datetime.datetime(2010, 12, 14, 0, 0)"
      ]
     },
     "execution_count": 10,
     "metadata": {},
     "output_type": "execute_result"
    }
   ],
   "source": [
    "start - 2 * timedelta(12)"
   ]
  },
  {
   "cell_type": "code",
   "execution_count": 11,
   "metadata": {
    "ExecuteTime": {
     "end_time": "2019-08-25T03:05:46.299655Z",
     "start_time": "2019-08-25T03:05:46.293574Z"
    }
   },
   "outputs": [
    {
     "data": {
      "text/plain": [
       "'2011-01-03 00:00:00'"
      ]
     },
     "execution_count": 11,
     "metadata": {},
     "output_type": "execute_result"
    }
   ],
   "source": [
    "stamp = datetime(2011, 1, 3)\n",
    "str(stamp)"
   ]
  },
  {
   "cell_type": "code",
   "execution_count": 12,
   "metadata": {
    "ExecuteTime": {
     "end_time": "2019-08-25T03:05:59.834463Z",
     "start_time": "2019-08-25T03:05:59.828220Z"
    }
   },
   "outputs": [
    {
     "data": {
      "text/plain": [
       "'2011-01-03'"
      ]
     },
     "execution_count": 12,
     "metadata": {},
     "output_type": "execute_result"
    }
   ],
   "source": [
    "stamp.strftime('%Y-%m-%d')"
   ]
  },
  {
   "cell_type": "markdown",
   "metadata": {},
   "source": [
    "datetime.strptime可以用这些格式化编码将字符串转换为日期："
   ]
  },
  {
   "cell_type": "code",
   "execution_count": 13,
   "metadata": {
    "ExecuteTime": {
     "end_time": "2019-08-25T03:07:04.697984Z",
     "start_time": "2019-08-25T03:07:04.690351Z"
    }
   },
   "outputs": [
    {
     "data": {
      "text/plain": [
       "datetime.datetime(2011, 1, 3, 0, 0)"
      ]
     },
     "execution_count": 13,
     "metadata": {},
     "output_type": "execute_result"
    }
   ],
   "source": [
    "value = '2011-01-03'\n",
    "datetime.strptime(value, '%Y-%m-%d')"
   ]
  },
  {
   "cell_type": "code",
   "execution_count": 14,
   "metadata": {
    "ExecuteTime": {
     "end_time": "2019-08-25T03:07:23.370160Z",
     "start_time": "2019-08-25T03:07:23.362821Z"
    }
   },
   "outputs": [
    {
     "data": {
      "text/plain": [
       "[datetime.datetime(2011, 7, 6, 0, 0), datetime.datetime(2011, 8, 6, 0, 0)]"
      ]
     },
     "execution_count": 14,
     "metadata": {},
     "output_type": "execute_result"
    }
   ],
   "source": [
    "datestrs = ['7/6/2011', '8/6/2011']\n",
    "[datetime.strptime(x, '%m/%d/%Y') for x in datestrs]"
   ]
  },
  {
   "cell_type": "code",
   "execution_count": 15,
   "metadata": {
    "ExecuteTime": {
     "end_time": "2019-08-25T03:08:39.707229Z",
     "start_time": "2019-08-25T03:08:39.701297Z"
    }
   },
   "outputs": [
    {
     "data": {
      "text/plain": [
       "datetime.datetime(2011, 1, 3, 0, 0)"
      ]
     },
     "execution_count": 15,
     "metadata": {},
     "output_type": "execute_result"
    }
   ],
   "source": [
    "from dateutil.parser import parse\n",
    "parse('2011-01-03')"
   ]
  },
  {
   "cell_type": "code",
   "execution_count": 16,
   "metadata": {
    "ExecuteTime": {
     "end_time": "2019-08-25T03:08:57.633806Z",
     "start_time": "2019-08-25T03:08:57.627905Z"
    }
   },
   "outputs": [
    {
     "data": {
      "text/plain": [
       "datetime.datetime(1997, 1, 31, 22, 45)"
      ]
     },
     "execution_count": 16,
     "metadata": {},
     "output_type": "execute_result"
    }
   ],
   "source": [
    "parse('Jan 31, 1997 10:45 PM')"
   ]
  },
  {
   "cell_type": "code",
   "execution_count": 17,
   "metadata": {
    "ExecuteTime": {
     "end_time": "2019-08-25T03:09:16.731164Z",
     "start_time": "2019-08-25T03:09:16.725105Z"
    }
   },
   "outputs": [
    {
     "data": {
      "text/plain": [
       "datetime.datetime(2011, 12, 6, 0, 0)"
      ]
     },
     "execution_count": 17,
     "metadata": {},
     "output_type": "execute_result"
    }
   ],
   "source": [
    "parse('6/12/2011', dayfirst=True)"
   ]
  },
  {
   "cell_type": "code",
   "execution_count": 18,
   "metadata": {
    "ExecuteTime": {
     "end_time": "2019-08-25T03:09:47.602936Z",
     "start_time": "2019-08-25T03:09:47.593551Z"
    }
   },
   "outputs": [
    {
     "data": {
      "text/plain": [
       "DatetimeIndex(['2011-07-06 12:00:00', '2011-08-06 00:00:00'], dtype='datetime64[ns]', freq=None)"
      ]
     },
     "execution_count": 18,
     "metadata": {},
     "output_type": "execute_result"
    }
   ],
   "source": [
    "datestrs = ['2011-07-06 12:00:00', '2011-08-06 00:00:00']\n",
    "pd.to_datetime(datestrs)"
   ]
  },
  {
   "cell_type": "code",
   "execution_count": 19,
   "metadata": {
    "ExecuteTime": {
     "end_time": "2019-08-25T03:10:06.741804Z",
     "start_time": "2019-08-25T03:10:06.734034Z"
    }
   },
   "outputs": [
    {
     "data": {
      "text/plain": [
       "DatetimeIndex(['2011-07-06 12:00:00', '2011-08-06 00:00:00', 'NaT'], dtype='datetime64[ns]', freq=None)"
      ]
     },
     "execution_count": 19,
     "metadata": {},
     "output_type": "execute_result"
    }
   ],
   "source": [
    "idx = pd.to_datetime(datestrs + [None])\n",
    "idx"
   ]
  },
  {
   "cell_type": "code",
   "execution_count": 20,
   "metadata": {
    "ExecuteTime": {
     "end_time": "2019-08-25T03:10:16.254965Z",
     "start_time": "2019-08-25T03:10:16.248478Z"
    }
   },
   "outputs": [
    {
     "data": {
      "text/plain": [
       "NaT"
      ]
     },
     "execution_count": 20,
     "metadata": {},
     "output_type": "execute_result"
    }
   ],
   "source": [
    "idx[2]"
   ]
  },
  {
   "cell_type": "code",
   "execution_count": 21,
   "metadata": {
    "ExecuteTime": {
     "end_time": "2019-08-25T03:10:24.012971Z",
     "start_time": "2019-08-25T03:10:24.006166Z"
    }
   },
   "outputs": [
    {
     "data": {
      "text/plain": [
       "array([False, False,  True])"
      ]
     },
     "execution_count": 21,
     "metadata": {},
     "output_type": "execute_result"
    }
   ],
   "source": [
    "pd.isnull(idx)"
   ]
  },
  {
   "cell_type": "markdown",
   "metadata": {},
   "source": [
    "## 11.2 时间序列基础\n",
    "pandas最基本的时间序列类型就是以时间戳（通常以Python字符串或datatime对象表示）为索引的Series："
   ]
  },
  {
   "cell_type": "code",
   "execution_count": 22,
   "metadata": {
    "ExecuteTime": {
     "end_time": "2019-08-25T03:14:14.580885Z",
     "start_time": "2019-08-25T03:14:14.575682Z"
    }
   },
   "outputs": [],
   "source": [
    "dates = [datetime(2011, 1, 2), datetime(2011, 1, 5),datetime(2011, 1, 7), datetime(2011, 1, 8),datetime(2011, 1, 10), datetime(2011, 1, 12)]"
   ]
  },
  {
   "cell_type": "code",
   "execution_count": 23,
   "metadata": {
    "ExecuteTime": {
     "end_time": "2019-08-25T03:14:24.609264Z",
     "start_time": "2019-08-25T03:14:24.597394Z"
    }
   },
   "outputs": [
    {
     "data": {
      "text/plain": [
       "2011-01-02   -0.065775\n",
       "2011-01-05    0.880655\n",
       "2011-01-07   -0.494145\n",
       "2011-01-08   -1.083913\n",
       "2011-01-10   -2.412249\n",
       "2011-01-12    0.970572\n",
       "dtype: float64"
      ]
     },
     "execution_count": 23,
     "metadata": {},
     "output_type": "execute_result"
    }
   ],
   "source": [
    "ts = pd.Series(np.random.randn(6), index=dates)\n",
    "ts"
   ]
  },
  {
   "cell_type": "code",
   "execution_count": 24,
   "metadata": {
    "ExecuteTime": {
     "end_time": "2019-08-25T03:14:46.016326Z",
     "start_time": "2019-08-25T03:14:46.009667Z"
    }
   },
   "outputs": [
    {
     "data": {
      "text/plain": [
       "DatetimeIndex(['2011-01-02', '2011-01-05', '2011-01-07', '2011-01-08',\n",
       "               '2011-01-10', '2011-01-12'],\n",
       "              dtype='datetime64[ns]', freq=None)"
      ]
     },
     "execution_count": 24,
     "metadata": {},
     "output_type": "execute_result"
    }
   ],
   "source": [
    "ts.index"
   ]
  },
  {
   "cell_type": "code",
   "execution_count": 25,
   "metadata": {
    "ExecuteTime": {
     "end_time": "2019-08-25T03:15:02.405306Z",
     "start_time": "2019-08-25T03:15:02.316817Z"
    }
   },
   "outputs": [
    {
     "data": {
      "text/plain": [
       "2011-01-02   -0.131550\n",
       "2011-01-05         NaN\n",
       "2011-01-07   -0.988290\n",
       "2011-01-08         NaN\n",
       "2011-01-10   -4.824497\n",
       "2011-01-12         NaN\n",
       "dtype: float64"
      ]
     },
     "execution_count": 25,
     "metadata": {},
     "output_type": "execute_result"
    }
   ],
   "source": [
    "ts + ts[::2]"
   ]
  },
  {
   "cell_type": "code",
   "execution_count": 26,
   "metadata": {
    "ExecuteTime": {
     "end_time": "2019-08-25T03:15:43.795517Z",
     "start_time": "2019-08-25T03:15:43.789775Z"
    }
   },
   "outputs": [
    {
     "data": {
      "text/plain": [
       "dtype('<M8[ns]')"
      ]
     },
     "execution_count": 26,
     "metadata": {},
     "output_type": "execute_result"
    }
   ],
   "source": [
    "ts.index.dtype"
   ]
  },
  {
   "cell_type": "code",
   "execution_count": 27,
   "metadata": {
    "ExecuteTime": {
     "end_time": "2019-08-25T03:16:01.176676Z",
     "start_time": "2019-08-25T03:16:01.170461Z"
    }
   },
   "outputs": [
    {
     "data": {
      "text/plain": [
       "Timestamp('2011-01-02 00:00:00')"
      ]
     },
     "execution_count": 27,
     "metadata": {},
     "output_type": "execute_result"
    }
   ],
   "source": [
    "stamp = ts.index[0]\n",
    "stamp"
   ]
  },
  {
   "cell_type": "code",
   "execution_count": 28,
   "metadata": {
    "ExecuteTime": {
     "end_time": "2019-08-25T03:16:35.285145Z",
     "start_time": "2019-08-25T03:16:35.279074Z"
    }
   },
   "outputs": [
    {
     "data": {
      "text/plain": [
       "-0.494145035011368"
      ]
     },
     "execution_count": 28,
     "metadata": {},
     "output_type": "execute_result"
    }
   ],
   "source": [
    "stamp = ts.index[2]\n",
    "ts[stamp]"
   ]
  },
  {
   "cell_type": "code",
   "execution_count": 29,
   "metadata": {
    "ExecuteTime": {
     "end_time": "2019-08-25T03:16:44.867494Z",
     "start_time": "2019-08-25T03:16:44.854706Z"
    }
   },
   "outputs": [
    {
     "data": {
      "text/plain": [
       "-2.4122485059122694"
      ]
     },
     "execution_count": 29,
     "metadata": {},
     "output_type": "execute_result"
    }
   ],
   "source": [
    "ts['1/10/2011']"
   ]
  },
  {
   "cell_type": "code",
   "execution_count": 30,
   "metadata": {
    "ExecuteTime": {
     "end_time": "2019-08-25T03:16:50.968919Z",
     "start_time": "2019-08-25T03:16:50.961914Z"
    }
   },
   "outputs": [
    {
     "data": {
      "text/plain": [
       "-2.4122485059122694"
      ]
     },
     "execution_count": 30,
     "metadata": {},
     "output_type": "execute_result"
    }
   ],
   "source": [
    "ts['20110110']"
   ]
  },
  {
   "cell_type": "markdown",
   "metadata": {},
   "source": [
    "对于较长的时间序列，只需传入“年”或“年月”即可轻松选取数据的切片："
   ]
  },
  {
   "cell_type": "code",
   "execution_count": 31,
   "metadata": {
    "ExecuteTime": {
     "end_time": "2019-08-25T03:17:08.012333Z",
     "start_time": "2019-08-25T03:17:08.005881Z"
    }
   },
   "outputs": [],
   "source": [
    "longer_ts = pd.Series(np.random.randn(1000),index=pd.date_range('1/1/2000', periods=1000))"
   ]
  },
  {
   "cell_type": "code",
   "execution_count": 32,
   "metadata": {
    "ExecuteTime": {
     "end_time": "2019-08-25T03:17:12.067802Z",
     "start_time": "2019-08-25T03:17:12.058158Z"
    },
    "scrolled": true
   },
   "outputs": [
    {
     "data": {
      "text/plain": [
       "2000-01-01   -1.175410\n",
       "2000-01-02    0.107498\n",
       "2000-01-03   -0.056217\n",
       "2000-01-04    1.049350\n",
       "2000-01-05   -0.641140\n",
       "2000-01-06    0.984050\n",
       "2000-01-07   -0.594788\n",
       "2000-01-08    0.371557\n",
       "2000-01-09    1.459686\n",
       "2000-01-10    0.075997\n",
       "2000-01-11   -1.009301\n",
       "2000-01-12   -0.266263\n",
       "2000-01-13   -0.070638\n",
       "2000-01-14   -2.342831\n",
       "2000-01-15    0.643278\n",
       "2000-01-16    1.470292\n",
       "2000-01-17    0.173813\n",
       "2000-01-18    0.282631\n",
       "2000-01-19   -0.073560\n",
       "2000-01-20   -0.738780\n",
       "2000-01-21   -1.044493\n",
       "2000-01-22   -0.202911\n",
       "2000-01-23    0.787578\n",
       "2000-01-24   -0.872214\n",
       "2000-01-25    2.790477\n",
       "2000-01-26    1.145281\n",
       "2000-01-27   -0.959539\n",
       "2000-01-28    1.161465\n",
       "2000-01-29   -1.253655\n",
       "2000-01-30   -0.302661\n",
       "                ...   \n",
       "2002-08-28   -0.951809\n",
       "2002-08-29    0.207069\n",
       "2002-08-30   -0.408289\n",
       "2002-08-31    1.684510\n",
       "2002-09-01    0.038255\n",
       "2002-09-02    0.396631\n",
       "2002-09-03   -0.349072\n",
       "2002-09-04   -1.324140\n",
       "2002-09-05   -0.576542\n",
       "2002-09-06    0.480534\n",
       "2002-09-07    0.569216\n",
       "2002-09-08   -0.741046\n",
       "2002-09-09   -2.551458\n",
       "2002-09-10   -0.954764\n",
       "2002-09-11   -0.032391\n",
       "2002-09-12   -0.111910\n",
       "2002-09-13   -1.505227\n",
       "2002-09-14   -1.081350\n",
       "2002-09-15    0.119756\n",
       "2002-09-16    0.301011\n",
       "2002-09-17    0.437861\n",
       "2002-09-18   -1.171104\n",
       "2002-09-19   -0.197270\n",
       "2002-09-20    0.061878\n",
       "2002-09-21    1.936811\n",
       "2002-09-22   -0.951891\n",
       "2002-09-23    1.601145\n",
       "2002-09-24   -1.099485\n",
       "2002-09-25    0.227190\n",
       "2002-09-26   -0.771766\n",
       "Freq: D, Length: 1000, dtype: float64"
      ]
     },
     "execution_count": 32,
     "metadata": {},
     "output_type": "execute_result"
    }
   ],
   "source": [
    "longer_ts"
   ]
  },
  {
   "cell_type": "code",
   "execution_count": 33,
   "metadata": {
    "ExecuteTime": {
     "end_time": "2019-08-25T03:17:30.341361Z",
     "start_time": "2019-08-25T03:17:30.331074Z"
    },
    "scrolled": true
   },
   "outputs": [
    {
     "data": {
      "text/plain": [
       "2001-01-01    0.386100\n",
       "2001-01-02   -1.256483\n",
       "2001-01-03   -1.151798\n",
       "2001-01-04   -1.102320\n",
       "2001-01-05   -1.571154\n",
       "2001-01-06   -0.235055\n",
       "2001-01-07   -1.338607\n",
       "2001-01-08    0.703631\n",
       "2001-01-09   -0.011723\n",
       "2001-01-10    1.187960\n",
       "2001-01-11   -0.085137\n",
       "2001-01-12    0.469289\n",
       "2001-01-13   -0.064638\n",
       "2001-01-14   -0.699458\n",
       "2001-01-15    0.120577\n",
       "2001-01-16   -0.161147\n",
       "2001-01-17   -0.062962\n",
       "2001-01-18    0.073752\n",
       "2001-01-19   -1.258811\n",
       "2001-01-20    0.022549\n",
       "2001-01-21    0.354535\n",
       "2001-01-22   -0.640647\n",
       "2001-01-23    2.095185\n",
       "2001-01-24    0.336267\n",
       "2001-01-25    0.361499\n",
       "2001-01-26   -1.601986\n",
       "2001-01-27   -0.018712\n",
       "2001-01-28    0.665339\n",
       "2001-01-29    0.383885\n",
       "2001-01-30   -0.180830\n",
       "                ...   \n",
       "2001-12-02    1.721967\n",
       "2001-12-03    0.611200\n",
       "2001-12-04   -0.491592\n",
       "2001-12-05   -0.094857\n",
       "2001-12-06    0.596071\n",
       "2001-12-07    0.887196\n",
       "2001-12-08    0.093593\n",
       "2001-12-09    1.592143\n",
       "2001-12-10   -0.946413\n",
       "2001-12-11    2.061003\n",
       "2001-12-12    0.259737\n",
       "2001-12-13   -0.324147\n",
       "2001-12-14    0.982271\n",
       "2001-12-15    0.510523\n",
       "2001-12-16   -1.101570\n",
       "2001-12-17    1.317439\n",
       "2001-12-18   -0.370620\n",
       "2001-12-19   -0.178909\n",
       "2001-12-20    0.396280\n",
       "2001-12-21   -1.660235\n",
       "2001-12-22    0.047011\n",
       "2001-12-23   -1.525619\n",
       "2001-12-24   -0.146700\n",
       "2001-12-25    0.561440\n",
       "2001-12-26   -0.539046\n",
       "2001-12-27   -0.117605\n",
       "2001-12-28    1.720440\n",
       "2001-12-29    0.846970\n",
       "2001-12-30   -0.461211\n",
       "2001-12-31   -0.319472\n",
       "Freq: D, Length: 365, dtype: float64"
      ]
     },
     "execution_count": 33,
     "metadata": {},
     "output_type": "execute_result"
    }
   ],
   "source": [
    "longer_ts['2001']"
   ]
  },
  {
   "cell_type": "markdown",
   "metadata": {},
   "source": [
    "这里，字符串“2001”被解释成年，并根据它选取时间区间。指定月也同样奏效："
   ]
  },
  {
   "cell_type": "code",
   "execution_count": 34,
   "metadata": {
    "ExecuteTime": {
     "end_time": "2019-08-25T03:18:15.361254Z",
     "start_time": "2019-08-25T03:18:15.352725Z"
    },
    "scrolled": true
   },
   "outputs": [
    {
     "data": {
      "text/plain": [
       "2001-05-01    0.713842\n",
       "2001-05-02    0.087937\n",
       "2001-05-03   -1.894818\n",
       "2001-05-04   -2.479896\n",
       "2001-05-05    0.082498\n",
       "2001-05-06    2.563619\n",
       "2001-05-07    0.423327\n",
       "2001-05-08   -0.295976\n",
       "2001-05-09    0.162245\n",
       "2001-05-10    0.094732\n",
       "2001-05-11    1.828978\n",
       "2001-05-12   -0.455708\n",
       "2001-05-13   -0.263224\n",
       "2001-05-14   -0.336938\n",
       "2001-05-15    0.073426\n",
       "2001-05-16    0.106771\n",
       "2001-05-17   -1.649495\n",
       "2001-05-18   -0.067436\n",
       "2001-05-19   -0.177376\n",
       "2001-05-20    0.164511\n",
       "2001-05-21    0.442455\n",
       "2001-05-22   -1.105382\n",
       "2001-05-23   -0.115390\n",
       "2001-05-24   -1.925139\n",
       "2001-05-25   -0.055017\n",
       "2001-05-26   -1.120542\n",
       "2001-05-27   -1.720239\n",
       "2001-05-28    0.157021\n",
       "2001-05-29    1.006892\n",
       "2001-05-30   -0.196111\n",
       "2001-05-31   -0.508350\n",
       "Freq: D, dtype: float64"
      ]
     },
     "execution_count": 34,
     "metadata": {},
     "output_type": "execute_result"
    }
   ],
   "source": [
    "longer_ts['2001-05']"
   ]
  },
  {
   "cell_type": "markdown",
   "metadata": {},
   "source": [
    "datetime对象也可以进行切片："
   ]
  },
  {
   "cell_type": "code",
   "execution_count": 35,
   "metadata": {
    "ExecuteTime": {
     "end_time": "2019-08-25T03:19:01.345551Z",
     "start_time": "2019-08-25T03:19:01.337537Z"
    }
   },
   "outputs": [
    {
     "data": {
      "text/plain": [
       "2011-01-07   -0.494145\n",
       "2011-01-08   -1.083913\n",
       "2011-01-10   -2.412249\n",
       "2011-01-12    0.970572\n",
       "dtype: float64"
      ]
     },
     "execution_count": 35,
     "metadata": {},
     "output_type": "execute_result"
    }
   ],
   "source": [
    "ts[datetime(2011, 1, 7):]"
   ]
  },
  {
   "cell_type": "markdown",
   "metadata": {},
   "source": [
    "由于大部分时间序列数据都是按照时间先后排序的，因此你也可以用不存在于该时间序列中的时间戳对其进行切片（即范围查询）："
   ]
  },
  {
   "cell_type": "code",
   "execution_count": 36,
   "metadata": {
    "ExecuteTime": {
     "end_time": "2019-08-25T03:19:56.529846Z",
     "start_time": "2019-08-25T03:19:56.522266Z"
    }
   },
   "outputs": [
    {
     "data": {
      "text/plain": [
       "2011-01-02   -0.065775\n",
       "2011-01-05    0.880655\n",
       "2011-01-07   -0.494145\n",
       "2011-01-08   -1.083913\n",
       "2011-01-10   -2.412249\n",
       "2011-01-12    0.970572\n",
       "dtype: float64"
      ]
     },
     "execution_count": 36,
     "metadata": {},
     "output_type": "execute_result"
    }
   ],
   "source": [
    "ts"
   ]
  },
  {
   "cell_type": "code",
   "execution_count": 37,
   "metadata": {
    "ExecuteTime": {
     "end_time": "2019-08-25T03:20:05.020495Z",
     "start_time": "2019-08-25T03:20:05.009865Z"
    }
   },
   "outputs": [
    {
     "data": {
      "text/plain": [
       "2011-01-07   -0.494145\n",
       "2011-01-08   -1.083913\n",
       "2011-01-10   -2.412249\n",
       "dtype: float64"
      ]
     },
     "execution_count": 37,
     "metadata": {},
     "output_type": "execute_result"
    }
   ],
   "source": [
    "ts['1/6/2011':'1/11/2011']"
   ]
  },
  {
   "cell_type": "markdown",
   "metadata": {},
   "source": [
    "跟之前一样，你可以传入字符串日期、datetime或Timestamp。注意，这样切片所产生的是原时间序列的视图，跟NumPy数组的切片运算是一样的。\n",
    "这意味着，没有数据被复制，对切片进行修改会反映到原始数据上。\n",
    "此外，还有一个等价的实例方法也可以截取两个日期之间TimeSeries：\n"
   ]
  },
  {
   "cell_type": "code",
   "execution_count": 38,
   "metadata": {
    "ExecuteTime": {
     "end_time": "2019-08-25T03:20:23.990380Z",
     "start_time": "2019-08-25T03:20:23.979089Z"
    }
   },
   "outputs": [
    {
     "data": {
      "text/plain": [
       "2011-01-02   -0.065775\n",
       "2011-01-05    0.880655\n",
       "2011-01-07   -0.494145\n",
       "2011-01-08   -1.083913\n",
       "dtype: float64"
      ]
     },
     "execution_count": 38,
     "metadata": {},
     "output_type": "execute_result"
    }
   ],
   "source": [
    "ts.truncate(after='1/9/2011')"
   ]
  },
  {
   "cell_type": "markdown",
   "metadata": {},
   "source": [
    "这些操作对DataFrame也有效。例如，对DataFrame的行进行索引："
   ]
  },
  {
   "cell_type": "code",
   "execution_count": 39,
   "metadata": {
    "ExecuteTime": {
     "end_time": "2019-08-25T03:20:53.113687Z",
     "start_time": "2019-08-25T03:20:53.103002Z"
    }
   },
   "outputs": [],
   "source": [
    "dates = pd.date_range('1/1/2000', periods=100, freq='W-WED')"
   ]
  },
  {
   "cell_type": "code",
   "execution_count": 40,
   "metadata": {
    "ExecuteTime": {
     "end_time": "2019-08-25T03:21:15.406332Z",
     "start_time": "2019-08-25T03:21:15.354475Z"
    }
   },
   "outputs": [
    {
     "data": {
      "text/html": [
       "<div>\n",
       "<style scoped>\n",
       "    .dataframe tbody tr th:only-of-type {\n",
       "        vertical-align: middle;\n",
       "    }\n",
       "\n",
       "    .dataframe tbody tr th {\n",
       "        vertical-align: top;\n",
       "    }\n",
       "\n",
       "    .dataframe thead th {\n",
       "        text-align: right;\n",
       "    }\n",
       "</style>\n",
       "<table border=\"1\" class=\"dataframe\">\n",
       "  <thead>\n",
       "    <tr style=\"text-align: right;\">\n",
       "      <th></th>\n",
       "      <th>Colorado</th>\n",
       "      <th>Texas</th>\n",
       "      <th>New York</th>\n",
       "      <th>Ohio</th>\n",
       "    </tr>\n",
       "  </thead>\n",
       "  <tbody>\n",
       "    <tr>\n",
       "      <th>2001-05-02</th>\n",
       "      <td>-0.954812</td>\n",
       "      <td>0.505178</td>\n",
       "      <td>0.956729</td>\n",
       "      <td>1.797910</td>\n",
       "    </tr>\n",
       "    <tr>\n",
       "      <th>2001-05-09</th>\n",
       "      <td>-0.405709</td>\n",
       "      <td>-1.128872</td>\n",
       "      <td>-0.668041</td>\n",
       "      <td>-0.097023</td>\n",
       "    </tr>\n",
       "    <tr>\n",
       "      <th>2001-05-16</th>\n",
       "      <td>0.028847</td>\n",
       "      <td>-1.001089</td>\n",
       "      <td>0.636835</td>\n",
       "      <td>-0.664264</td>\n",
       "    </tr>\n",
       "    <tr>\n",
       "      <th>2001-05-23</th>\n",
       "      <td>-0.550414</td>\n",
       "      <td>-0.303747</td>\n",
       "      <td>-1.343149</td>\n",
       "      <td>-0.973219</td>\n",
       "    </tr>\n",
       "    <tr>\n",
       "      <th>2001-05-30</th>\n",
       "      <td>-1.320463</td>\n",
       "      <td>0.124751</td>\n",
       "      <td>-1.148915</td>\n",
       "      <td>-0.671734</td>\n",
       "    </tr>\n",
       "  </tbody>\n",
       "</table>\n",
       "</div>"
      ],
      "text/plain": [
       "            Colorado     Texas  New York      Ohio\n",
       "2001-05-02 -0.954812  0.505178  0.956729  1.797910\n",
       "2001-05-09 -0.405709 -1.128872 -0.668041 -0.097023\n",
       "2001-05-16  0.028847 -1.001089  0.636835 -0.664264\n",
       "2001-05-23 -0.550414 -0.303747 -1.343149 -0.973219\n",
       "2001-05-30 -1.320463  0.124751 -1.148915 -0.671734"
      ]
     },
     "execution_count": 40,
     "metadata": {},
     "output_type": "execute_result"
    }
   ],
   "source": [
    "long_df = pd.DataFrame(np.random.randn(100, 4),index=dates,columns=['Colorado', 'Texas','New York', 'Ohio'])\n",
    "long_df.loc['5-2001']"
   ]
  },
  {
   "cell_type": "code",
   "execution_count": 41,
   "metadata": {
    "ExecuteTime": {
     "end_time": "2019-08-25T03:21:59.065322Z",
     "start_time": "2019-08-25T03:21:59.052642Z"
    }
   },
   "outputs": [
    {
     "data": {
      "text/plain": [
       "2000-01-01    0\n",
       "2000-01-02    1\n",
       "2000-01-02    2\n",
       "2000-01-02    3\n",
       "2000-01-03    4\n",
       "dtype: int64"
      ]
     },
     "execution_count": 41,
     "metadata": {},
     "output_type": "execute_result"
    }
   ],
   "source": [
    "dates = pd.DatetimeIndex(['1/1/2000', '1/2/2000', '1/2/2000', '1/2/2000', '1/3/2000'])\n",
    "dup_ts = pd.Series(np.arange(5), index=dates)\n",
    "dup_ts"
   ]
  },
  {
   "cell_type": "markdown",
   "metadata": {},
   "source": [
    "通过检查索引的is_unique属性，我们就可以知道它是不是唯一的："
   ]
  },
  {
   "cell_type": "code",
   "execution_count": 42,
   "metadata": {
    "ExecuteTime": {
     "end_time": "2019-08-25T03:22:29.009615Z",
     "start_time": "2019-08-25T03:22:29.003992Z"
    }
   },
   "outputs": [
    {
     "data": {
      "text/plain": [
       "False"
      ]
     },
     "execution_count": 42,
     "metadata": {},
     "output_type": "execute_result"
    }
   ],
   "source": [
    "dup_ts.index.is_unique"
   ]
  },
  {
   "cell_type": "markdown",
   "metadata": {},
   "source": [
    "对这个时间序列进行索引，要么产生标量值，要么产生切片，具体要看所选的时间点是否重复："
   ]
  },
  {
   "cell_type": "code",
   "execution_count": 43,
   "metadata": {
    "ExecuteTime": {
     "end_time": "2019-08-25T03:30:45.946141Z",
     "start_time": "2019-08-25T03:30:45.938157Z"
    }
   },
   "outputs": [
    {
     "data": {
      "text/plain": [
       "4"
      ]
     },
     "execution_count": 43,
     "metadata": {},
     "output_type": "execute_result"
    }
   ],
   "source": [
    "dup_ts['1/3/2000'] "
   ]
  },
  {
   "cell_type": "code",
   "execution_count": 44,
   "metadata": {
    "ExecuteTime": {
     "end_time": "2019-08-25T03:31:00.387731Z",
     "start_time": "2019-08-25T03:31:00.378060Z"
    }
   },
   "outputs": [
    {
     "data": {
      "text/plain": [
       "2000-01-02    1\n",
       "2000-01-02    2\n",
       "2000-01-02    3\n",
       "dtype: int64"
      ]
     },
     "execution_count": 44,
     "metadata": {},
     "output_type": "execute_result"
    }
   ],
   "source": [
    "dup_ts['1/2/2000']"
   ]
  },
  {
   "cell_type": "markdown",
   "metadata": {},
   "source": [
    "假设你想要对具有非唯一时间戳的数据进行聚合。一个办法是使用groupby，并传入level=0："
   ]
  },
  {
   "cell_type": "code",
   "execution_count": 45,
   "metadata": {
    "ExecuteTime": {
     "end_time": "2019-08-25T03:32:00.057317Z",
     "start_time": "2019-08-25T03:32:00.043389Z"
    }
   },
   "outputs": [
    {
     "data": {
      "text/plain": [
       "2000-01-01    0\n",
       "2000-01-02    2\n",
       "2000-01-03    4\n",
       "dtype: int64"
      ]
     },
     "execution_count": 45,
     "metadata": {},
     "output_type": "execute_result"
    }
   ],
   "source": [
    "grouped = dup_ts.groupby(level=0)\n",
    "grouped.mean()"
   ]
  },
  {
   "cell_type": "code",
   "execution_count": 46,
   "metadata": {
    "ExecuteTime": {
     "end_time": "2019-08-25T03:32:06.815928Z",
     "start_time": "2019-08-25T03:32:06.808545Z"
    }
   },
   "outputs": [
    {
     "data": {
      "text/plain": [
       "2000-01-01    1\n",
       "2000-01-02    3\n",
       "2000-01-03    1\n",
       "dtype: int64"
      ]
     },
     "execution_count": 46,
     "metadata": {},
     "output_type": "execute_result"
    }
   ],
   "source": [
    "grouped.count()"
   ]
  },
  {
   "cell_type": "code",
   "execution_count": 47,
   "metadata": {
    "ExecuteTime": {
     "end_time": "2019-08-25T03:32:31.760009Z",
     "start_time": "2019-08-25T03:32:31.752507Z"
    }
   },
   "outputs": [
    {
     "data": {
      "text/plain": [
       "2011-01-02   -0.065775\n",
       "2011-01-05    0.880655\n",
       "2011-01-07   -0.494145\n",
       "2011-01-08   -1.083913\n",
       "2011-01-10   -2.412249\n",
       "2011-01-12    0.970572\n",
       "dtype: float64"
      ]
     },
     "execution_count": 47,
     "metadata": {},
     "output_type": "execute_result"
    }
   ],
   "source": [
    "ts"
   ]
  },
  {
   "cell_type": "code",
   "execution_count": 48,
   "metadata": {
    "ExecuteTime": {
     "end_time": "2019-08-25T03:33:21.175562Z",
     "start_time": "2019-08-25T03:33:21.165954Z"
    }
   },
   "outputs": [
    {
     "data": {
      "text/plain": [
       "DatetimeIndex(['2012-04-01', '2012-04-02', '2012-04-03', '2012-04-04',\n",
       "               '2012-04-05', '2012-04-06', '2012-04-07', '2012-04-08',\n",
       "               '2012-04-09', '2012-04-10', '2012-04-11', '2012-04-12',\n",
       "               '2012-04-13', '2012-04-14', '2012-04-15', '2012-04-16',\n",
       "               '2012-04-17', '2012-04-18', '2012-04-19', '2012-04-20',\n",
       "               '2012-04-21', '2012-04-22', '2012-04-23', '2012-04-24',\n",
       "               '2012-04-25', '2012-04-26', '2012-04-27', '2012-04-28',\n",
       "               '2012-04-29', '2012-04-30', '2012-05-01', '2012-05-02',\n",
       "               '2012-05-03', '2012-05-04', '2012-05-05', '2012-05-06',\n",
       "               '2012-05-07', '2012-05-08', '2012-05-09', '2012-05-10',\n",
       "               '2012-05-11', '2012-05-12', '2012-05-13', '2012-05-14',\n",
       "               '2012-05-15', '2012-05-16', '2012-05-17', '2012-05-18',\n",
       "               '2012-05-19', '2012-05-20', '2012-05-21', '2012-05-22',\n",
       "               '2012-05-23', '2012-05-24', '2012-05-25', '2012-05-26',\n",
       "               '2012-05-27', '2012-05-28', '2012-05-29', '2012-05-30',\n",
       "               '2012-05-31', '2012-06-01'],\n",
       "              dtype='datetime64[ns]', freq='D')"
      ]
     },
     "execution_count": 48,
     "metadata": {},
     "output_type": "execute_result"
    }
   ],
   "source": [
    "index = pd.date_range('2012-04-01', '2012-06-01')\n",
    "index"
   ]
  },
  {
   "cell_type": "code",
   "execution_count": 49,
   "metadata": {
    "ExecuteTime": {
     "end_time": "2019-08-25T03:33:37.432429Z",
     "start_time": "2019-08-25T03:33:37.424135Z"
    }
   },
   "outputs": [
    {
     "data": {
      "text/plain": [
       "DatetimeIndex(['2012-04-01', '2012-04-02', '2012-04-03', '2012-04-04',\n",
       "               '2012-04-05', '2012-04-06', '2012-04-07', '2012-04-08',\n",
       "               '2012-04-09', '2012-04-10', '2012-04-11', '2012-04-12',\n",
       "               '2012-04-13', '2012-04-14', '2012-04-15', '2012-04-16',\n",
       "               '2012-04-17', '2012-04-18', '2012-04-19', '2012-04-20'],\n",
       "              dtype='datetime64[ns]', freq='D')"
      ]
     },
     "execution_count": 49,
     "metadata": {},
     "output_type": "execute_result"
    }
   ],
   "source": [
    "pd.date_range(start='2012-04-01', periods=20)"
   ]
  },
  {
   "cell_type": "code",
   "execution_count": 50,
   "metadata": {
    "ExecuteTime": {
     "end_time": "2019-08-25T03:33:45.238354Z",
     "start_time": "2019-08-25T03:33:45.230208Z"
    }
   },
   "outputs": [
    {
     "data": {
      "text/plain": [
       "DatetimeIndex(['2012-05-13', '2012-05-14', '2012-05-15', '2012-05-16',\n",
       "               '2012-05-17', '2012-05-18', '2012-05-19', '2012-05-20',\n",
       "               '2012-05-21', '2012-05-22', '2012-05-23', '2012-05-24',\n",
       "               '2012-05-25', '2012-05-26', '2012-05-27', '2012-05-28',\n",
       "               '2012-05-29', '2012-05-30', '2012-05-31', '2012-06-01'],\n",
       "              dtype='datetime64[ns]', freq='D')"
      ]
     },
     "execution_count": 50,
     "metadata": {},
     "output_type": "execute_result"
    }
   ],
   "source": [
    "pd.date_range(end='2012-06-01', periods=20)"
   ]
  },
  {
   "cell_type": "code",
   "execution_count": 51,
   "metadata": {
    "ExecuteTime": {
     "end_time": "2019-08-25T03:34:07.636327Z",
     "start_time": "2019-08-25T03:34:07.627468Z"
    }
   },
   "outputs": [
    {
     "data": {
      "text/plain": [
       "DatetimeIndex(['2000-01-31', '2000-02-29', '2000-03-31', '2000-04-28',\n",
       "               '2000-05-31', '2000-06-30', '2000-07-31', '2000-08-31',\n",
       "               '2000-09-29', '2000-10-31', '2000-11-30'],\n",
       "              dtype='datetime64[ns]', freq='BM')"
      ]
     },
     "execution_count": 51,
     "metadata": {},
     "output_type": "execute_result"
    }
   ],
   "source": [
    "pd.date_range('2000-01-01', '2000-12-01', freq='BM')"
   ]
  },
  {
   "cell_type": "code",
   "execution_count": 52,
   "metadata": {
    "ExecuteTime": {
     "end_time": "2019-08-25T03:36:28.409208Z",
     "start_time": "2019-08-25T03:36:28.401500Z"
    }
   },
   "outputs": [
    {
     "data": {
      "text/plain": [
       "DatetimeIndex(['2012-05-02 12:56:31', '2012-05-03 12:56:31',\n",
       "               '2012-05-04 12:56:31', '2012-05-05 12:56:31',\n",
       "               '2012-05-06 12:56:31'],\n",
       "              dtype='datetime64[ns]', freq='D')"
      ]
     },
     "execution_count": 52,
     "metadata": {},
     "output_type": "execute_result"
    }
   ],
   "source": [
    "pd.date_range('2012-05-02 12:56:31', periods=5)"
   ]
  },
  {
   "cell_type": "code",
   "execution_count": 53,
   "metadata": {
    "ExecuteTime": {
     "end_time": "2019-08-25T03:37:05.906250Z",
     "start_time": "2019-08-25T03:37:05.898547Z"
    }
   },
   "outputs": [
    {
     "data": {
      "text/plain": [
       "DatetimeIndex(['2012-05-02', '2012-05-03', '2012-05-04', '2012-05-05',\n",
       "               '2012-05-06'],\n",
       "              dtype='datetime64[ns]', freq='D')"
      ]
     },
     "execution_count": 53,
     "metadata": {},
     "output_type": "execute_result"
    }
   ],
   "source": [
    "pd.date_range('2012-05-02 12:56:31', periods=5, normalize=True)"
   ]
  },
  {
   "cell_type": "code",
   "execution_count": 54,
   "metadata": {
    "ExecuteTime": {
     "end_time": "2019-08-25T03:37:35.892886Z",
     "start_time": "2019-08-25T03:37:35.886915Z"
    }
   },
   "outputs": [
    {
     "data": {
      "text/plain": [
       "<Hour>"
      ]
     },
     "execution_count": 54,
     "metadata": {},
     "output_type": "execute_result"
    }
   ],
   "source": [
    "from pandas.tseries.offsets import Hour, Minute\n",
    "hour = Hour()\n",
    "hour"
   ]
  },
  {
   "cell_type": "code",
   "execution_count": 55,
   "metadata": {
    "ExecuteTime": {
     "end_time": "2019-08-25T05:59:35.235004Z",
     "start_time": "2019-08-25T05:59:35.229435Z"
    }
   },
   "outputs": [
    {
     "data": {
      "text/plain": [
       "<4 * Hours>"
      ]
     },
     "execution_count": 55,
     "metadata": {},
     "output_type": "execute_result"
    }
   ],
   "source": [
    "four_hours = Hour(4)\n",
    "four_hours"
   ]
  },
  {
   "cell_type": "code",
   "execution_count": 56,
   "metadata": {
    "ExecuteTime": {
     "end_time": "2019-08-25T05:59:48.416239Z",
     "start_time": "2019-08-25T05:59:48.409408Z"
    }
   },
   "outputs": [
    {
     "data": {
      "text/plain": [
       "DatetimeIndex(['2000-01-01 00:00:00', '2000-01-01 04:00:00',\n",
       "               '2000-01-01 08:00:00', '2000-01-01 12:00:00',\n",
       "               '2000-01-01 16:00:00', '2000-01-01 20:00:00',\n",
       "               '2000-01-02 00:00:00', '2000-01-02 04:00:00',\n",
       "               '2000-01-02 08:00:00', '2000-01-02 12:00:00',\n",
       "               '2000-01-02 16:00:00', '2000-01-02 20:00:00',\n",
       "               '2000-01-03 00:00:00', '2000-01-03 04:00:00',\n",
       "               '2000-01-03 08:00:00', '2000-01-03 12:00:00',\n",
       "               '2000-01-03 16:00:00', '2000-01-03 20:00:00'],\n",
       "              dtype='datetime64[ns]', freq='4H')"
      ]
     },
     "execution_count": 56,
     "metadata": {},
     "output_type": "execute_result"
    }
   ],
   "source": [
    "pd.date_range('2000-01-01', '2000-01-03 23:59', freq='4h')"
   ]
  },
  {
   "cell_type": "code",
   "execution_count": 57,
   "metadata": {
    "ExecuteTime": {
     "end_time": "2019-08-25T06:00:01.415628Z",
     "start_time": "2019-08-25T06:00:01.410025Z"
    }
   },
   "outputs": [
    {
     "data": {
      "text/plain": [
       "<150 * Minutes>"
      ]
     },
     "execution_count": 57,
     "metadata": {},
     "output_type": "execute_result"
    }
   ],
   "source": [
    "Hour(2) + Minute(30)"
   ]
  },
  {
   "cell_type": "code",
   "execution_count": 58,
   "metadata": {
    "ExecuteTime": {
     "end_time": "2019-08-25T06:00:13.875341Z",
     "start_time": "2019-08-25T06:00:13.867607Z"
    }
   },
   "outputs": [
    {
     "data": {
      "text/plain": [
       "DatetimeIndex(['2000-01-01 00:00:00', '2000-01-01 01:30:00',\n",
       "               '2000-01-01 03:00:00', '2000-01-01 04:30:00',\n",
       "               '2000-01-01 06:00:00', '2000-01-01 07:30:00',\n",
       "               '2000-01-01 09:00:00', '2000-01-01 10:30:00',\n",
       "               '2000-01-01 12:00:00', '2000-01-01 13:30:00'],\n",
       "              dtype='datetime64[ns]', freq='90T')"
      ]
     },
     "execution_count": 58,
     "metadata": {},
     "output_type": "execute_result"
    }
   ],
   "source": [
    "pd.date_range('2000-01-01', periods=10, freq='1h30min')"
   ]
  },
  {
   "cell_type": "code",
   "execution_count": 59,
   "metadata": {
    "ExecuteTime": {
     "end_time": "2019-08-25T06:18:16.903358Z",
     "start_time": "2019-08-25T06:18:16.895277Z"
    }
   },
   "outputs": [
    {
     "data": {
      "text/plain": [
       "[Timestamp('2012-01-20 00:00:00', freq='WOM-3FRI'),\n",
       " Timestamp('2012-02-17 00:00:00', freq='WOM-3FRI'),\n",
       " Timestamp('2012-03-16 00:00:00', freq='WOM-3FRI'),\n",
       " Timestamp('2012-04-20 00:00:00', freq='WOM-3FRI'),\n",
       " Timestamp('2012-05-18 00:00:00', freq='WOM-3FRI'),\n",
       " Timestamp('2012-06-15 00:00:00', freq='WOM-3FRI'),\n",
       " Timestamp('2012-07-20 00:00:00', freq='WOM-3FRI'),\n",
       " Timestamp('2012-08-17 00:00:00', freq='WOM-3FRI')]"
      ]
     },
     "execution_count": 59,
     "metadata": {},
     "output_type": "execute_result"
    }
   ],
   "source": [
    "rng = pd.date_range('2012-01-01', '2012-09-01', freq='WOM-3FRI')\n",
    "list(rng)"
   ]
  },
  {
   "cell_type": "code",
   "execution_count": 60,
   "metadata": {
    "ExecuteTime": {
     "end_time": "2019-08-25T06:18:46.103302Z",
     "start_time": "2019-08-25T06:18:46.093652Z"
    }
   },
   "outputs": [
    {
     "data": {
      "text/plain": [
       "2000-01-31   -2.168316\n",
       "2000-02-29    2.278426\n",
       "2000-03-31    0.916601\n",
       "2000-04-30   -0.127666\n",
       "Freq: M, dtype: float64"
      ]
     },
     "execution_count": 60,
     "metadata": {},
     "output_type": "execute_result"
    }
   ],
   "source": [
    "ts = pd.Series(np.random.randn(4),index=pd.date_range('1/1/2000', periods=4, freq='M'))\n",
    "ts"
   ]
  },
  {
   "cell_type": "code",
   "execution_count": 61,
   "metadata": {
    "ExecuteTime": {
     "end_time": "2019-08-25T06:18:51.674734Z",
     "start_time": "2019-08-25T06:18:51.667400Z"
    }
   },
   "outputs": [
    {
     "data": {
      "text/plain": [
       "2000-01-31         NaN\n",
       "2000-02-29         NaN\n",
       "2000-03-31   -2.168316\n",
       "2000-04-30    2.278426\n",
       "Freq: M, dtype: float64"
      ]
     },
     "execution_count": 61,
     "metadata": {},
     "output_type": "execute_result"
    }
   ],
   "source": [
    "ts.shift(2)"
   ]
  },
  {
   "cell_type": "code",
   "execution_count": 62,
   "metadata": {
    "ExecuteTime": {
     "end_time": "2019-08-25T06:19:02.976709Z",
     "start_time": "2019-08-25T06:19:02.968299Z"
    }
   },
   "outputs": [
    {
     "data": {
      "text/plain": [
       "2000-01-31    0.916601\n",
       "2000-02-29   -0.127666\n",
       "2000-03-31         NaN\n",
       "2000-04-30         NaN\n",
       "Freq: M, dtype: float64"
      ]
     },
     "execution_count": 62,
     "metadata": {},
     "output_type": "execute_result"
    }
   ],
   "source": [
    "ts.shift(-2)"
   ]
  },
  {
   "cell_type": "code",
   "execution_count": 63,
   "metadata": {
    "ExecuteTime": {
     "end_time": "2019-08-25T06:19:22.112893Z",
     "start_time": "2019-08-25T06:19:22.104672Z"
    }
   },
   "outputs": [
    {
     "data": {
      "text/plain": [
       "2000-01-31         NaN\n",
       "2000-02-29   -2.050781\n",
       "2000-03-31   -0.597704\n",
       "2000-04-30   -1.139283\n",
       "Freq: M, dtype: float64"
      ]
     },
     "execution_count": 63,
     "metadata": {},
     "output_type": "execute_result"
    }
   ],
   "source": [
    "ts / ts.shift(1) - 1"
   ]
  },
  {
   "cell_type": "code",
   "execution_count": 64,
   "metadata": {
    "ExecuteTime": {
     "end_time": "2019-08-25T06:20:16.135570Z",
     "start_time": "2019-08-25T06:20:16.125444Z"
    }
   },
   "outputs": [
    {
     "data": {
      "text/plain": [
       "2000-03-31   -2.168316\n",
       "2000-04-30    2.278426\n",
       "2000-05-31    0.916601\n",
       "2000-06-30   -0.127666\n",
       "Freq: M, dtype: float64"
      ]
     },
     "execution_count": 64,
     "metadata": {},
     "output_type": "execute_result"
    }
   ],
   "source": [
    "ts.shift(2, freq='M')"
   ]
  },
  {
   "cell_type": "code",
   "execution_count": 65,
   "metadata": {
    "ExecuteTime": {
     "end_time": "2019-08-25T06:20:47.632845Z",
     "start_time": "2019-08-25T06:20:47.602929Z"
    }
   },
   "outputs": [
    {
     "data": {
      "text/plain": [
       "2000-02-03   -2.168316\n",
       "2000-03-03    2.278426\n",
       "2000-04-03    0.916601\n",
       "2000-05-03   -0.127666\n",
       "dtype: float64"
      ]
     },
     "execution_count": 65,
     "metadata": {},
     "output_type": "execute_result"
    }
   ],
   "source": [
    "ts.shift(3, freq='D')"
   ]
  },
  {
   "cell_type": "code",
   "execution_count": 66,
   "metadata": {
    "ExecuteTime": {
     "end_time": "2019-08-25T06:21:24.138656Z",
     "start_time": "2019-08-25T06:21:24.134073Z"
    }
   },
   "outputs": [],
   "source": [
    "from pandas.tseries.offsets import Day, MonthEnd\n",
    "now = datetime(2011, 11, 17)"
   ]
  },
  {
   "cell_type": "code",
   "execution_count": 67,
   "metadata": {
    "ExecuteTime": {
     "end_time": "2019-08-25T06:21:31.901012Z",
     "start_time": "2019-08-25T06:21:31.894427Z"
    }
   },
   "outputs": [
    {
     "data": {
      "text/plain": [
       "Timestamp('2011-11-20 00:00:00')"
      ]
     },
     "execution_count": 67,
     "metadata": {},
     "output_type": "execute_result"
    }
   ],
   "source": [
    "now + 3 * Day()"
   ]
  },
  {
   "cell_type": "code",
   "execution_count": 68,
   "metadata": {
    "ExecuteTime": {
     "end_time": "2019-08-25T06:21:49.727803Z",
     "start_time": "2019-08-25T06:21:49.720793Z"
    }
   },
   "outputs": [
    {
     "data": {
      "text/plain": [
       "Timestamp('2011-11-30 00:00:00')"
      ]
     },
     "execution_count": 68,
     "metadata": {},
     "output_type": "execute_result"
    }
   ],
   "source": [
    "now + MonthEnd()"
   ]
  },
  {
   "cell_type": "code",
   "execution_count": 69,
   "metadata": {
    "ExecuteTime": {
     "end_time": "2019-08-25T06:21:55.219777Z",
     "start_time": "2019-08-25T06:21:55.213699Z"
    }
   },
   "outputs": [
    {
     "data": {
      "text/plain": [
       "Timestamp('2011-12-31 00:00:00')"
      ]
     },
     "execution_count": 69,
     "metadata": {},
     "output_type": "execute_result"
    }
   ],
   "source": [
    "now + MonthEnd(2)"
   ]
  },
  {
   "cell_type": "code",
   "execution_count": 70,
   "metadata": {
    "ExecuteTime": {
     "end_time": "2019-08-25T06:22:32.554695Z",
     "start_time": "2019-08-25T06:22:32.548816Z"
    }
   },
   "outputs": [
    {
     "data": {
      "text/plain": [
       "Timestamp('2011-11-30 00:00:00')"
      ]
     },
     "execution_count": 70,
     "metadata": {},
     "output_type": "execute_result"
    }
   ],
   "source": [
    "offset = MonthEnd()\n",
    "offset.rollforward(now)"
   ]
  },
  {
   "cell_type": "code",
   "execution_count": 71,
   "metadata": {
    "ExecuteTime": {
     "end_time": "2019-08-25T06:22:42.927923Z",
     "start_time": "2019-08-25T06:22:42.921498Z"
    }
   },
   "outputs": [
    {
     "data": {
      "text/plain": [
       "Timestamp('2011-10-31 00:00:00')"
      ]
     },
     "execution_count": 71,
     "metadata": {},
     "output_type": "execute_result"
    }
   ],
   "source": [
    "offset.rollback(now)"
   ]
  },
  {
   "cell_type": "code",
   "execution_count": 72,
   "metadata": {
    "ExecuteTime": {
     "end_time": "2019-08-25T06:23:50.337422Z",
     "start_time": "2019-08-25T06:23:50.327518Z"
    },
    "scrolled": true
   },
   "outputs": [
    {
     "data": {
      "text/plain": [
       "2000-01-15   -1.969161\n",
       "2000-01-19   -0.977954\n",
       "2000-01-23    2.208522\n",
       "2000-01-27   -0.083013\n",
       "2000-01-31   -0.199122\n",
       "2000-02-04    1.335505\n",
       "2000-02-08   -0.024593\n",
       "2000-02-12   -0.277222\n",
       "2000-02-16    1.030661\n",
       "2000-02-20   -1.270540\n",
       "2000-02-24   -1.162085\n",
       "2000-02-28    0.236648\n",
       "2000-03-03    2.844729\n",
       "2000-03-07   -0.838091\n",
       "2000-03-11    0.331623\n",
       "2000-03-15    1.602382\n",
       "2000-03-19   -0.659037\n",
       "2000-03-23   -0.319555\n",
       "2000-03-27   -0.504607\n",
       "2000-03-31   -0.091587\n",
       "Freq: 4D, dtype: float64"
      ]
     },
     "execution_count": 72,
     "metadata": {},
     "output_type": "execute_result"
    }
   ],
   "source": [
    "ts = pd.Series(np.random.randn(20),index=pd.date_range('1/15/2000', periods=20, freq='4d'))\n",
    "ts"
   ]
  },
  {
   "cell_type": "code",
   "execution_count": 73,
   "metadata": {
    "ExecuteTime": {
     "end_time": "2019-08-25T06:23:57.734959Z",
     "start_time": "2019-08-25T06:23:57.717267Z"
    }
   },
   "outputs": [
    {
     "data": {
      "text/plain": [
       "2000-01-31   -0.204146\n",
       "2000-02-29   -0.018804\n",
       "2000-03-31    0.295732\n",
       "dtype: float64"
      ]
     },
     "execution_count": 73,
     "metadata": {},
     "output_type": "execute_result"
    }
   ],
   "source": [
    "ts.groupby(offset.rollforward).mean()"
   ]
  },
  {
   "cell_type": "code",
   "execution_count": 74,
   "metadata": {
    "ExecuteTime": {
     "end_time": "2019-08-25T06:24:12.992786Z",
     "start_time": "2019-08-25T06:24:12.958069Z"
    }
   },
   "outputs": [
    {
     "data": {
      "text/plain": [
       "2000-01-31   -0.204146\n",
       "2000-02-29   -0.018804\n",
       "2000-03-31    0.295732\n",
       "Freq: M, dtype: float64"
      ]
     },
     "execution_count": 74,
     "metadata": {},
     "output_type": "execute_result"
    }
   ],
   "source": [
    "ts.resample('M').mean()"
   ]
  },
  {
   "cell_type": "code",
   "execution_count": 75,
   "metadata": {
    "ExecuteTime": {
     "end_time": "2019-08-25T06:24:39.674041Z",
     "start_time": "2019-08-25T06:24:39.670433Z"
    }
   },
   "outputs": [],
   "source": [
    "import pytz"
   ]
  },
  {
   "cell_type": "code",
   "execution_count": 76,
   "metadata": {
    "ExecuteTime": {
     "end_time": "2019-08-25T06:24:45.008501Z",
     "start_time": "2019-08-25T06:24:44.828319Z"
    }
   },
   "outputs": [
    {
     "data": {
      "text/plain": [
       "['US/Eastern', 'US/Hawaii', 'US/Mountain', 'US/Pacific', 'UTC']"
      ]
     },
     "execution_count": 76,
     "metadata": {},
     "output_type": "execute_result"
    }
   ],
   "source": [
    "pytz.common_timezones[-5:]"
   ]
  },
  {
   "cell_type": "markdown",
   "metadata": {},
   "source": [
    "要从pytz中获取时区对象，使用pytz.timezone即可："
   ]
  },
  {
   "cell_type": "code",
   "execution_count": 77,
   "metadata": {
    "ExecuteTime": {
     "end_time": "2019-08-25T06:25:07.050309Z",
     "start_time": "2019-08-25T06:25:07.022381Z"
    }
   },
   "outputs": [
    {
     "data": {
      "text/plain": [
       "<DstTzInfo 'America/New_York' LMT-1 day, 19:04:00 STD>"
      ]
     },
     "execution_count": 77,
     "metadata": {},
     "output_type": "execute_result"
    }
   ],
   "source": [
    "tz = pytz.timezone('America/New_York')\n",
    "tz"
   ]
  },
  {
   "cell_type": "code",
   "execution_count": 78,
   "metadata": {
    "ExecuteTime": {
     "end_time": "2019-08-25T06:25:32.118400Z",
     "start_time": "2019-08-25T06:25:32.108321Z"
    }
   },
   "outputs": [
    {
     "data": {
      "text/plain": [
       "2012-03-09 09:30:00   -0.218789\n",
       "2012-03-10 09:30:00   -0.262105\n",
       "2012-03-11 09:30:00    0.856608\n",
       "2012-03-12 09:30:00    0.681644\n",
       "2012-03-13 09:30:00   -0.528107\n",
       "2012-03-14 09:30:00    0.555219\n",
       "Freq: D, dtype: float64"
      ]
     },
     "execution_count": 78,
     "metadata": {},
     "output_type": "execute_result"
    }
   ],
   "source": [
    "rng = pd.date_range('3/9/2012 9:30', periods=6, freq='D')\n",
    "ts = pd.Series(np.random.randn(len(rng)), index=rng)\n",
    "ts"
   ]
  },
  {
   "cell_type": "markdown",
   "metadata": {},
   "source": [
    "其索引的tz字段为None："
   ]
  },
  {
   "cell_type": "code",
   "execution_count": 79,
   "metadata": {
    "ExecuteTime": {
     "end_time": "2019-08-25T06:25:47.911246Z",
     "start_time": "2019-08-25T06:25:47.906454Z"
    }
   },
   "outputs": [
    {
     "name": "stdout",
     "output_type": "stream",
     "text": [
      "None\n"
     ]
    }
   ],
   "source": [
    "print(ts.index.tz)"
   ]
  },
  {
   "cell_type": "markdown",
   "metadata": {},
   "source": [
    "可以用时区集生成日期范围："
   ]
  },
  {
   "cell_type": "code",
   "execution_count": 80,
   "metadata": {
    "ExecuteTime": {
     "end_time": "2019-08-25T06:32:54.999819Z",
     "start_time": "2019-08-25T06:32:54.990493Z"
    }
   },
   "outputs": [
    {
     "data": {
      "text/plain": [
       "DatetimeIndex(['2012-03-09 09:30:00+00:00', '2012-03-10 09:30:00+00:00',\n",
       "               '2012-03-11 09:30:00+00:00', '2012-03-12 09:30:00+00:00',\n",
       "               '2012-03-13 09:30:00+00:00', '2012-03-14 09:30:00+00:00',\n",
       "               '2012-03-15 09:30:00+00:00', '2012-03-16 09:30:00+00:00',\n",
       "               '2012-03-17 09:30:00+00:00', '2012-03-18 09:30:00+00:00'],\n",
       "              dtype='datetime64[ns, UTC]', freq='D')"
      ]
     },
     "execution_count": 80,
     "metadata": {},
     "output_type": "execute_result"
    }
   ],
   "source": [
    "pd.date_range('3/9/2012 9:30', periods=10, freq='D', tz='UTC')"
   ]
  },
  {
   "cell_type": "markdown",
   "metadata": {},
   "source": [
    "从单纯到本地化的转换是通过tz_localize方法处理的："
   ]
  },
  {
   "cell_type": "code",
   "execution_count": 81,
   "metadata": {
    "ExecuteTime": {
     "end_time": "2019-08-25T06:33:08.269943Z",
     "start_time": "2019-08-25T06:33:08.262283Z"
    }
   },
   "outputs": [
    {
     "data": {
      "text/plain": [
       "2012-03-09 09:30:00   -0.218789\n",
       "2012-03-10 09:30:00   -0.262105\n",
       "2012-03-11 09:30:00    0.856608\n",
       "2012-03-12 09:30:00    0.681644\n",
       "2012-03-13 09:30:00   -0.528107\n",
       "2012-03-14 09:30:00    0.555219\n",
       "Freq: D, dtype: float64"
      ]
     },
     "execution_count": 81,
     "metadata": {},
     "output_type": "execute_result"
    }
   ],
   "source": [
    "ts"
   ]
  },
  {
   "cell_type": "code",
   "execution_count": 82,
   "metadata": {
    "ExecuteTime": {
     "end_time": "2019-08-25T06:33:13.794856Z",
     "start_time": "2019-08-25T06:33:13.790284Z"
    }
   },
   "outputs": [],
   "source": [
    "ts_utc = ts.tz_localize('UTC')"
   ]
  },
  {
   "cell_type": "code",
   "execution_count": 83,
   "metadata": {
    "ExecuteTime": {
     "end_time": "2019-08-25T06:33:18.263541Z",
     "start_time": "2019-08-25T06:33:18.256046Z"
    }
   },
   "outputs": [
    {
     "data": {
      "text/plain": [
       "2012-03-09 09:30:00+00:00   -0.218789\n",
       "2012-03-10 09:30:00+00:00   -0.262105\n",
       "2012-03-11 09:30:00+00:00    0.856608\n",
       "2012-03-12 09:30:00+00:00    0.681644\n",
       "2012-03-13 09:30:00+00:00   -0.528107\n",
       "2012-03-14 09:30:00+00:00    0.555219\n",
       "Freq: D, dtype: float64"
      ]
     },
     "execution_count": 83,
     "metadata": {},
     "output_type": "execute_result"
    }
   ],
   "source": [
    "ts_utc"
   ]
  },
  {
   "cell_type": "code",
   "execution_count": 84,
   "metadata": {
    "ExecuteTime": {
     "end_time": "2019-08-25T06:33:23.911904Z",
     "start_time": "2019-08-25T06:33:23.904569Z"
    }
   },
   "outputs": [
    {
     "data": {
      "text/plain": [
       "DatetimeIndex(['2012-03-09 09:30:00+00:00', '2012-03-10 09:30:00+00:00',\n",
       "               '2012-03-11 09:30:00+00:00', '2012-03-12 09:30:00+00:00',\n",
       "               '2012-03-13 09:30:00+00:00', '2012-03-14 09:30:00+00:00'],\n",
       "              dtype='datetime64[ns, UTC]', freq='D')"
      ]
     },
     "execution_count": 84,
     "metadata": {},
     "output_type": "execute_result"
    }
   ],
   "source": [
    "ts_utc.index"
   ]
  },
  {
   "cell_type": "code",
   "execution_count": 85,
   "metadata": {
    "ExecuteTime": {
     "end_time": "2019-08-25T06:34:02.665645Z",
     "start_time": "2019-08-25T06:34:02.656712Z"
    }
   },
   "outputs": [
    {
     "data": {
      "text/plain": [
       "2012-03-09 04:30:00-05:00   -0.218789\n",
       "2012-03-10 04:30:00-05:00   -0.262105\n",
       "2012-03-11 05:30:00-04:00    0.856608\n",
       "2012-03-12 05:30:00-04:00    0.681644\n",
       "2012-03-13 05:30:00-04:00   -0.528107\n",
       "2012-03-14 05:30:00-04:00    0.555219\n",
       "Freq: D, dtype: float64"
      ]
     },
     "execution_count": 85,
     "metadata": {},
     "output_type": "execute_result"
    }
   ],
   "source": [
    "ts_utc.tz_convert('America/New_York')"
   ]
  },
  {
   "cell_type": "code",
   "execution_count": 86,
   "metadata": {
    "ExecuteTime": {
     "end_time": "2019-08-25T06:34:10.828486Z",
     "start_time": "2019-08-25T06:34:10.824095Z"
    }
   },
   "outputs": [],
   "source": [
    "ts_eastern = ts.tz_localize('America/New_York')"
   ]
  },
  {
   "cell_type": "code",
   "execution_count": 87,
   "metadata": {
    "ExecuteTime": {
     "end_time": "2019-08-25T06:34:18.128080Z",
     "start_time": "2019-08-25T06:34:18.119800Z"
    }
   },
   "outputs": [
    {
     "data": {
      "text/plain": [
       "2012-03-09 14:30:00+00:00   -0.218789\n",
       "2012-03-10 14:30:00+00:00   -0.262105\n",
       "2012-03-11 13:30:00+00:00    0.856608\n",
       "2012-03-12 13:30:00+00:00    0.681644\n",
       "2012-03-13 13:30:00+00:00   -0.528107\n",
       "2012-03-14 13:30:00+00:00    0.555219\n",
       "Freq: D, dtype: float64"
      ]
     },
     "execution_count": 87,
     "metadata": {},
     "output_type": "execute_result"
    }
   ],
   "source": [
    "ts_eastern.tz_convert('UTC')"
   ]
  },
  {
   "cell_type": "code",
   "execution_count": 88,
   "metadata": {
    "ExecuteTime": {
     "end_time": "2019-08-25T06:34:23.970646Z",
     "start_time": "2019-08-25T06:34:23.931753Z"
    }
   },
   "outputs": [
    {
     "data": {
      "text/plain": [
       "2012-03-09 15:30:00+01:00   -0.218789\n",
       "2012-03-10 15:30:00+01:00   -0.262105\n",
       "2012-03-11 14:30:00+01:00    0.856608\n",
       "2012-03-12 14:30:00+01:00    0.681644\n",
       "2012-03-13 14:30:00+01:00   -0.528107\n",
       "2012-03-14 14:30:00+01:00    0.555219\n",
       "Freq: D, dtype: float64"
      ]
     },
     "execution_count": 88,
     "metadata": {},
     "output_type": "execute_result"
    }
   ],
   "source": [
    "ts_eastern.tz_convert('Europe/Berlin')"
   ]
  },
  {
   "cell_type": "markdown",
   "metadata": {},
   "source": [
    "tz_localize和tz_convert也是DatetimeIndex的实例方法："
   ]
  },
  {
   "cell_type": "code",
   "execution_count": 89,
   "metadata": {
    "ExecuteTime": {
     "end_time": "2019-08-25T06:34:40.412053Z",
     "start_time": "2019-08-25T06:34:40.386045Z"
    }
   },
   "outputs": [
    {
     "data": {
      "text/plain": [
       "DatetimeIndex(['2012-03-09 09:30:00+08:00', '2012-03-10 09:30:00+08:00',\n",
       "               '2012-03-11 09:30:00+08:00', '2012-03-12 09:30:00+08:00',\n",
       "               '2012-03-13 09:30:00+08:00', '2012-03-14 09:30:00+08:00'],\n",
       "              dtype='datetime64[ns, Asia/Shanghai]', freq='D')"
      ]
     },
     "execution_count": 89,
     "metadata": {},
     "output_type": "execute_result"
    }
   ],
   "source": [
    "ts.index.tz_localize('Asia/Shanghai')"
   ]
  },
  {
   "cell_type": "code",
   "execution_count": 90,
   "metadata": {
    "ExecuteTime": {
     "end_time": "2019-08-25T06:35:03.017514Z",
     "start_time": "2019-08-25T06:35:03.012685Z"
    }
   },
   "outputs": [],
   "source": [
    "stamp = pd.Timestamp('2011-03-12 04:00')\n",
    "stamp_utc = stamp.tz_localize('utc')"
   ]
  },
  {
   "cell_type": "code",
   "execution_count": 91,
   "metadata": {
    "ExecuteTime": {
     "end_time": "2019-08-25T06:35:09.393344Z",
     "start_time": "2019-08-25T06:35:09.386892Z"
    }
   },
   "outputs": [
    {
     "data": {
      "text/plain": [
       "Timestamp('2011-03-11 23:00:00-0500', tz='America/New_York')"
      ]
     },
     "execution_count": 91,
     "metadata": {},
     "output_type": "execute_result"
    }
   ],
   "source": [
    "stamp_utc.tz_convert('America/New_York')"
   ]
  },
  {
   "cell_type": "code",
   "execution_count": 92,
   "metadata": {
    "ExecuteTime": {
     "end_time": "2019-08-25T06:35:22.799833Z",
     "start_time": "2019-08-25T06:35:22.760365Z"
    }
   },
   "outputs": [
    {
     "data": {
      "text/plain": [
       "Timestamp('2011-03-12 04:00:00+0300', tz='Europe/Moscow')"
      ]
     },
     "execution_count": 92,
     "metadata": {},
     "output_type": "execute_result"
    }
   ],
   "source": [
    "stamp_moscow = pd.Timestamp('2011-03-12 04:00', tz='Europe/Moscow')\n",
    "stamp_moscow"
   ]
  },
  {
   "cell_type": "markdown",
   "metadata": {},
   "source": [
    "时区意识型Timestamp对象在内部保存了一个UTC时间戳值（自UNIX纪元（1970年1月1日）算起的纳秒数）。这个UTC值在时区转换过程中是不会发生变化的："
   ]
  },
  {
   "cell_type": "code",
   "execution_count": 93,
   "metadata": {
    "ExecuteTime": {
     "end_time": "2019-08-25T06:35:34.077462Z",
     "start_time": "2019-08-25T06:35:34.072052Z"
    }
   },
   "outputs": [
    {
     "data": {
      "text/plain": [
       "1299902400000000000"
      ]
     },
     "execution_count": 93,
     "metadata": {},
     "output_type": "execute_result"
    }
   ],
   "source": [
    "stamp_utc.value"
   ]
  },
  {
   "cell_type": "code",
   "execution_count": 94,
   "metadata": {
    "ExecuteTime": {
     "end_time": "2019-08-25T06:35:41.274999Z",
     "start_time": "2019-08-25T06:35:41.268956Z"
    }
   },
   "outputs": [
    {
     "data": {
      "text/plain": [
       "1299902400000000000"
      ]
     },
     "execution_count": 94,
     "metadata": {},
     "output_type": "execute_result"
    }
   ],
   "source": [
    "stamp_utc.tz_convert('America/New_York').value"
   ]
  },
  {
   "cell_type": "code",
   "execution_count": 95,
   "metadata": {
    "ExecuteTime": {
     "end_time": "2019-08-25T06:36:04.283134Z",
     "start_time": "2019-08-25T06:36:04.275188Z"
    }
   },
   "outputs": [],
   "source": [
    "from pandas.tseries.offsets import Hour"
   ]
  },
  {
   "cell_type": "code",
   "execution_count": 96,
   "metadata": {
    "ExecuteTime": {
     "end_time": "2019-08-25T06:36:13.100355Z",
     "start_time": "2019-08-25T06:36:13.088310Z"
    }
   },
   "outputs": [
    {
     "data": {
      "text/plain": [
       "Timestamp('2012-03-12 01:30:00-0400', tz='US/Eastern')"
      ]
     },
     "execution_count": 96,
     "metadata": {},
     "output_type": "execute_result"
    }
   ],
   "source": [
    "stamp = pd.Timestamp('2012-03-12 01:30', tz='US/Eastern')\n",
    "stamp"
   ]
  },
  {
   "cell_type": "code",
   "execution_count": 97,
   "metadata": {
    "ExecuteTime": {
     "end_time": "2019-08-25T06:36:19.770314Z",
     "start_time": "2019-08-25T06:36:19.764327Z"
    }
   },
   "outputs": [
    {
     "data": {
      "text/plain": [
       "Timestamp('2012-03-12 02:30:00-0400', tz='US/Eastern')"
      ]
     },
     "execution_count": 97,
     "metadata": {},
     "output_type": "execute_result"
    }
   ],
   "source": [
    "stamp + Hour()"
   ]
  },
  {
   "cell_type": "code",
   "execution_count": 98,
   "metadata": {
    "ExecuteTime": {
     "end_time": "2019-08-25T06:36:34.439455Z",
     "start_time": "2019-08-25T06:36:34.432271Z"
    }
   },
   "outputs": [
    {
     "data": {
      "text/plain": [
       "Timestamp('2012-11-04 00:30:00-0400', tz='US/Eastern')"
      ]
     },
     "execution_count": 98,
     "metadata": {},
     "output_type": "execute_result"
    }
   ],
   "source": [
    "stamp = pd.Timestamp('2012-11-04 00:30', tz='US/Eastern')\n",
    "stamp"
   ]
  },
  {
   "cell_type": "code",
   "execution_count": 99,
   "metadata": {
    "ExecuteTime": {
     "end_time": "2019-08-25T06:36:38.690087Z",
     "start_time": "2019-08-25T06:36:38.683586Z"
    }
   },
   "outputs": [
    {
     "data": {
      "text/plain": [
       "Timestamp('2012-11-04 01:30:00-0500', tz='US/Eastern')"
      ]
     },
     "execution_count": 99,
     "metadata": {},
     "output_type": "execute_result"
    }
   ],
   "source": [
    "stamp + 2 * Hour()"
   ]
  },
  {
   "cell_type": "code",
   "execution_count": 100,
   "metadata": {
    "ExecuteTime": {
     "end_time": "2019-08-25T06:37:02.363517Z",
     "start_time": "2019-08-25T06:37:02.351883Z"
    }
   },
   "outputs": [],
   "source": [
    "rng = pd.date_range('3/7/2012 9:30', periods=10, freq='B')\n",
    "ts = pd.Series(np.random.randn(len(rng)), index=rng)"
   ]
  },
  {
   "cell_type": "code",
   "execution_count": 101,
   "metadata": {
    "ExecuteTime": {
     "end_time": "2019-08-25T06:37:05.680666Z",
     "start_time": "2019-08-25T06:37:05.672808Z"
    }
   },
   "outputs": [
    {
     "data": {
      "text/plain": [
       "2012-03-07 09:30:00   -0.267907\n",
       "2012-03-08 09:30:00    0.597052\n",
       "2012-03-09 09:30:00   -0.828884\n",
       "2012-03-12 09:30:00    0.511672\n",
       "2012-03-13 09:30:00   -0.129179\n",
       "2012-03-14 09:30:00   -2.688749\n",
       "2012-03-15 09:30:00    0.123445\n",
       "2012-03-16 09:30:00    0.294407\n",
       "2012-03-19 09:30:00    1.663521\n",
       "2012-03-20 09:30:00   -0.366701\n",
       "Freq: B, dtype: float64"
      ]
     },
     "execution_count": 101,
     "metadata": {},
     "output_type": "execute_result"
    }
   ],
   "source": [
    "ts"
   ]
  },
  {
   "cell_type": "code",
   "execution_count": 102,
   "metadata": {
    "ExecuteTime": {
     "end_time": "2019-08-25T06:37:21.951260Z",
     "start_time": "2019-08-25T06:37:21.939938Z"
    }
   },
   "outputs": [],
   "source": [
    "ts1 = ts[:7].tz_localize('Europe/London')\n",
    "ts2 = ts1[2:].tz_convert('Europe/Moscow')\n",
    "result = ts1 + ts2\n"
   ]
  },
  {
   "cell_type": "code",
   "execution_count": 103,
   "metadata": {
    "ExecuteTime": {
     "end_time": "2019-08-25T06:37:30.523387Z",
     "start_time": "2019-08-25T06:37:30.517137Z"
    }
   },
   "outputs": [
    {
     "data": {
      "text/plain": [
       "DatetimeIndex(['2012-03-07 09:30:00+00:00', '2012-03-08 09:30:00+00:00',\n",
       "               '2012-03-09 09:30:00+00:00', '2012-03-12 09:30:00+00:00',\n",
       "               '2012-03-13 09:30:00+00:00', '2012-03-14 09:30:00+00:00',\n",
       "               '2012-03-15 09:30:00+00:00'],\n",
       "              dtype='datetime64[ns, UTC]', freq='B')"
      ]
     },
     "execution_count": 103,
     "metadata": {},
     "output_type": "execute_result"
    }
   ],
   "source": [
    "result.index"
   ]
  },
  {
   "cell_type": "code",
   "execution_count": 104,
   "metadata": {
    "ExecuteTime": {
     "end_time": "2019-08-25T06:37:49.316706Z",
     "start_time": "2019-08-25T06:37:49.309520Z"
    }
   },
   "outputs": [
    {
     "data": {
      "text/plain": [
       "Period('2007', 'A-DEC')"
      ]
     },
     "execution_count": 104,
     "metadata": {},
     "output_type": "execute_result"
    }
   ],
   "source": [
    "p = pd.Period(2007, freq='A-DEC')\n",
    "p"
   ]
  },
  {
   "cell_type": "markdown",
   "metadata": {},
   "source": [
    "这里，这个Period对象表示的是从2007年1月1日到2007年12月31日之间的整段时间。只需对Period对象加上或减去一个整数即可达到根据其频率进行位移的效果："
   ]
  },
  {
   "cell_type": "code",
   "execution_count": 105,
   "metadata": {
    "ExecuteTime": {
     "end_time": "2019-08-25T06:38:01.331245Z",
     "start_time": "2019-08-25T06:38:01.325276Z"
    }
   },
   "outputs": [
    {
     "data": {
      "text/plain": [
       "Period('2012', 'A-DEC')"
      ]
     },
     "execution_count": 105,
     "metadata": {},
     "output_type": "execute_result"
    }
   ],
   "source": [
    "p + 5"
   ]
  },
  {
   "cell_type": "code",
   "execution_count": 106,
   "metadata": {
    "ExecuteTime": {
     "end_time": "2019-08-25T06:38:09.931535Z",
     "start_time": "2019-08-25T06:38:09.925902Z"
    }
   },
   "outputs": [
    {
     "data": {
      "text/plain": [
       "Period('2005', 'A-DEC')"
      ]
     },
     "execution_count": 106,
     "metadata": {},
     "output_type": "execute_result"
    }
   ],
   "source": [
    "p - 2"
   ]
  },
  {
   "cell_type": "markdown",
   "metadata": {},
   "source": [
    "如果两个Period对象拥有相同的频率，则它们的差就是它们之间的单位数量："
   ]
  },
  {
   "cell_type": "code",
   "execution_count": 107,
   "metadata": {
    "ExecuteTime": {
     "end_time": "2019-08-25T06:38:26.525849Z",
     "start_time": "2019-08-25T06:38:26.519230Z"
    }
   },
   "outputs": [
    {
     "data": {
      "text/plain": [
       "7"
      ]
     },
     "execution_count": 107,
     "metadata": {},
     "output_type": "execute_result"
    }
   ],
   "source": [
    "pd.Period('2014', freq='A-DEC') - p"
   ]
  },
  {
   "cell_type": "code",
   "execution_count": 108,
   "metadata": {
    "ExecuteTime": {
     "end_time": "2019-08-25T06:38:46.554179Z",
     "start_time": "2019-08-25T06:38:46.544723Z"
    }
   },
   "outputs": [
    {
     "data": {
      "text/plain": [
       "PeriodIndex(['2000-01', '2000-02', '2000-03', '2000-04', '2000-05', '2000-06'], dtype='period[M]', freq='M')"
      ]
     },
     "execution_count": 108,
     "metadata": {},
     "output_type": "execute_result"
    }
   ],
   "source": [
    "rng = pd.period_range('2000-01-01', '2000-06-30', freq='M')\n",
    "rng"
   ]
  },
  {
   "cell_type": "code",
   "execution_count": 109,
   "metadata": {
    "ExecuteTime": {
     "end_time": "2019-08-25T06:39:02.936012Z",
     "start_time": "2019-08-25T06:39:02.927167Z"
    }
   },
   "outputs": [
    {
     "data": {
      "text/plain": [
       "2000-01   -0.295843\n",
       "2000-02   -1.094867\n",
       "2000-03    0.958275\n",
       "2000-04    0.889309\n",
       "2000-05    1.167376\n",
       "2000-06   -0.465148\n",
       "Freq: M, dtype: float64"
      ]
     },
     "execution_count": 109,
     "metadata": {},
     "output_type": "execute_result"
    }
   ],
   "source": [
    "pd.Series(np.random.randn(6), index=rng)\n"
   ]
  },
  {
   "cell_type": "markdown",
   "metadata": {},
   "source": [
    "如果你有一个字符串数组，你也可以使用PeriodIndex类："
   ]
  },
  {
   "cell_type": "code",
   "execution_count": 110,
   "metadata": {
    "ExecuteTime": {
     "end_time": "2019-08-25T06:39:23.963212Z",
     "start_time": "2019-08-25T06:39:23.953433Z"
    }
   },
   "outputs": [
    {
     "data": {
      "text/plain": [
       "PeriodIndex(['2001Q3', '2002Q2', '2003Q1'], dtype='period[Q-DEC]', freq='Q-DEC')"
      ]
     },
     "execution_count": 110,
     "metadata": {},
     "output_type": "execute_result"
    }
   ],
   "source": [
    "values = ['2001Q3', '2002Q2', '2003Q1']\n",
    "index = pd.PeriodIndex(values, freq='Q-DEC')\n",
    "index"
   ]
  },
  {
   "cell_type": "code",
   "execution_count": 111,
   "metadata": {
    "ExecuteTime": {
     "end_time": "2019-08-25T06:39:40.603242Z",
     "start_time": "2019-08-25T06:39:40.596493Z"
    }
   },
   "outputs": [
    {
     "data": {
      "text/plain": [
       "Period('2007', 'A-DEC')"
      ]
     },
     "execution_count": 111,
     "metadata": {},
     "output_type": "execute_result"
    }
   ],
   "source": [
    "p = pd.Period('2007', freq='A-DEC')\n",
    "p"
   ]
  },
  {
   "cell_type": "code",
   "execution_count": 112,
   "metadata": {
    "ExecuteTime": {
     "end_time": "2019-08-25T06:39:47.557493Z",
     "start_time": "2019-08-25T06:39:47.550854Z"
    }
   },
   "outputs": [
    {
     "data": {
      "text/plain": [
       "Period('2007-01', 'M')"
      ]
     },
     "execution_count": 112,
     "metadata": {},
     "output_type": "execute_result"
    }
   ],
   "source": [
    "p.asfreq('M', how='start')"
   ]
  },
  {
   "cell_type": "code",
   "execution_count": 113,
   "metadata": {
    "ExecuteTime": {
     "end_time": "2019-08-25T06:39:52.705843Z",
     "start_time": "2019-08-25T06:39:52.698868Z"
    }
   },
   "outputs": [
    {
     "data": {
      "text/plain": [
       "Period('2007-12', 'M')"
      ]
     },
     "execution_count": 113,
     "metadata": {},
     "output_type": "execute_result"
    }
   ],
   "source": [
    "p.asfreq('M', how='end')"
   ]
  },
  {
   "cell_type": "code",
   "execution_count": 114,
   "metadata": {
    "ExecuteTime": {
     "end_time": "2019-08-25T06:40:06.865055Z",
     "start_time": "2019-08-25T06:40:06.858392Z"
    }
   },
   "outputs": [
    {
     "data": {
      "text/plain": [
       "Period('2007', 'A-JUN')"
      ]
     },
     "execution_count": 114,
     "metadata": {},
     "output_type": "execute_result"
    }
   ],
   "source": [
    "p = pd.Period('2007', freq='A-JUN')\n",
    "p"
   ]
  },
  {
   "cell_type": "markdown",
   "metadata": {},
   "source": [
    "在将高频率转换为低频率时，超时期（superperiod）是由子时期（subperiod）所属的位置决定的。例如，在A-JUN频率中，月份“2007年8月”实际上是属于周期“2008年”的："
   ]
  },
  {
   "cell_type": "code",
   "execution_count": 115,
   "metadata": {
    "ExecuteTime": {
     "end_time": "2019-08-25T06:40:30.905708Z",
     "start_time": "2019-08-25T06:40:30.898867Z"
    }
   },
   "outputs": [
    {
     "data": {
      "text/plain": [
       "Period('2008', 'A-JUN')"
      ]
     },
     "execution_count": 115,
     "metadata": {},
     "output_type": "execute_result"
    }
   ],
   "source": [
    "p = pd.Period('Aug-2007', 'M')\n",
    "p.asfreq('A-JUN')"
   ]
  },
  {
   "cell_type": "code",
   "execution_count": 116,
   "metadata": {
    "ExecuteTime": {
     "end_time": "2019-08-25T06:41:02.168256Z",
     "start_time": "2019-08-25T06:41:02.158410Z"
    }
   },
   "outputs": [
    {
     "data": {
      "text/plain": [
       "2000-01-31    0.477286\n",
       "2000-02-29   -2.196680\n",
       "2000-03-31    0.629786\n",
       "Freq: M, dtype: float64"
      ]
     },
     "execution_count": 116,
     "metadata": {},
     "output_type": "execute_result"
    }
   ],
   "source": [
    "rng = pd.date_range('2000-01-01', periods=3, freq='M')\n",
    "ts = pd.Series(np.random.randn(3), index=rng)\n",
    "ts"
   ]
  },
  {
   "cell_type": "markdown",
   "metadata": {},
   "source": [
    "由于时期指的是非重叠时间区间，因此对于给定的频率，一个时间戳只能属于一个时期。新PeriodIndex的频率默认是从时间戳推断而来的，你也可以指定任何别的频率。结果中允许存在重复时期："
   ]
  },
  {
   "cell_type": "code",
   "execution_count": 117,
   "metadata": {
    "ExecuteTime": {
     "end_time": "2019-08-25T06:41:22.251599Z",
     "start_time": "2019-08-25T06:41:22.241841Z"
    }
   },
   "outputs": [
    {
     "data": {
      "text/plain": [
       "2000-01-29    0.719144\n",
       "2000-01-30    0.045010\n",
       "2000-01-31    1.598252\n",
       "2000-02-01    0.119688\n",
       "2000-02-02   -1.430084\n",
       "2000-02-03    0.088552\n",
       "Freq: D, dtype: float64"
      ]
     },
     "execution_count": 117,
     "metadata": {},
     "output_type": "execute_result"
    }
   ],
   "source": [
    "rng = pd.date_range('1/29/2000', periods=6, freq='D')\n",
    "ts2 = pd.Series(np.random.randn(6), index=rng)\n",
    "ts2"
   ]
  },
  {
   "cell_type": "code",
   "execution_count": 118,
   "metadata": {
    "ExecuteTime": {
     "end_time": "2019-08-25T06:41:28.281953Z",
     "start_time": "2019-08-25T06:41:28.274403Z"
    }
   },
   "outputs": [
    {
     "data": {
      "text/plain": [
       "2000-01    0.719144\n",
       "2000-01    0.045010\n",
       "2000-01    1.598252\n",
       "2000-02    0.119688\n",
       "2000-02   -1.430084\n",
       "2000-02    0.088552\n",
       "Freq: M, dtype: float64"
      ]
     },
     "execution_count": 118,
     "metadata": {},
     "output_type": "execute_result"
    }
   ],
   "source": [
    "ts2.to_period('M')"
   ]
  },
  {
   "cell_type": "code",
   "execution_count": 119,
   "metadata": {
    "ExecuteTime": {
     "end_time": "2019-08-25T06:41:55.233644Z",
     "start_time": "2019-08-25T06:41:55.223558Z"
    }
   },
   "outputs": [
    {
     "data": {
      "text/plain": [
       "2000-01-31    0.477286\n",
       "2000-02-29   -2.196680\n",
       "2000-03-31    0.629786\n",
       "Freq: M, dtype: float64"
      ]
     },
     "execution_count": 119,
     "metadata": {},
     "output_type": "execute_result"
    }
   ],
   "source": [
    "ts.resample('M').mean()"
   ]
  },
  {
   "cell_type": "code",
   "execution_count": 120,
   "metadata": {
    "ExecuteTime": {
     "end_time": "2019-08-25T06:42:00.446993Z",
     "start_time": "2019-08-25T06:42:00.437241Z"
    }
   },
   "outputs": [
    {
     "data": {
      "text/plain": [
       "2000-01    0.477286\n",
       "2000-02   -2.196680\n",
       "2000-03    0.629786\n",
       "Freq: M, dtype: float64"
      ]
     },
     "execution_count": 120,
     "metadata": {},
     "output_type": "execute_result"
    }
   ],
   "source": [
    "ts.resample('M', kind='period').mean()"
   ]
  },
  {
   "cell_type": "markdown",
   "metadata": {
    "ExecuteTime": {
     "end_time": "2019-08-25T06:42:15.005536Z",
     "start_time": "2019-08-25T06:42:14.999494Z"
    }
   },
   "source": [
    "resample是一个灵活高效的方法，可用于处理非常大的时间序列。我将通过一系列的示例说明其用法。表11-5总结它的一些选项。\n",
    "![](https://upload-images.jianshu.io/upload_images/7178691-b40a57086c904e83.png?imageMogr2/auto-orient/strip%7CimageView2/2/w/757/format/webp)"
   ]
  },
  {
   "cell_type": "code",
   "execution_count": 122,
   "metadata": {
    "ExecuteTime": {
     "end_time": "2019-08-25T06:42:45.979136Z",
     "start_time": "2019-08-25T06:42:45.901995Z"
    },
    "scrolled": true
   },
   "outputs": [
    {
     "data": {
      "text/plain": [
       "2000-01-30 23:55:00    0.477286\n",
       "2000-01-31 00:00:00    0.000000\n",
       "2000-01-31 00:05:00    0.000000\n",
       "2000-01-31 00:10:00    0.000000\n",
       "2000-01-31 00:15:00    0.000000\n",
       "2000-01-31 00:20:00    0.000000\n",
       "2000-01-31 00:25:00    0.000000\n",
       "2000-01-31 00:30:00    0.000000\n",
       "2000-01-31 00:35:00    0.000000\n",
       "2000-01-31 00:40:00    0.000000\n",
       "2000-01-31 00:45:00    0.000000\n",
       "2000-01-31 00:50:00    0.000000\n",
       "2000-01-31 00:55:00    0.000000\n",
       "2000-01-31 01:00:00    0.000000\n",
       "2000-01-31 01:05:00    0.000000\n",
       "2000-01-31 01:10:00    0.000000\n",
       "2000-01-31 01:15:00    0.000000\n",
       "2000-01-31 01:20:00    0.000000\n",
       "2000-01-31 01:25:00    0.000000\n",
       "2000-01-31 01:30:00    0.000000\n",
       "2000-01-31 01:35:00    0.000000\n",
       "2000-01-31 01:40:00    0.000000\n",
       "2000-01-31 01:45:00    0.000000\n",
       "2000-01-31 01:50:00    0.000000\n",
       "2000-01-31 01:55:00    0.000000\n",
       "2000-01-31 02:00:00    0.000000\n",
       "2000-01-31 02:05:00    0.000000\n",
       "2000-01-31 02:10:00    0.000000\n",
       "2000-01-31 02:15:00    0.000000\n",
       "2000-01-31 02:20:00    0.000000\n",
       "                         ...   \n",
       "2000-03-30 21:30:00    0.000000\n",
       "2000-03-30 21:35:00    0.000000\n",
       "2000-03-30 21:40:00    0.000000\n",
       "2000-03-30 21:45:00    0.000000\n",
       "2000-03-30 21:50:00    0.000000\n",
       "2000-03-30 21:55:00    0.000000\n",
       "2000-03-30 22:00:00    0.000000\n",
       "2000-03-30 22:05:00    0.000000\n",
       "2000-03-30 22:10:00    0.000000\n",
       "2000-03-30 22:15:00    0.000000\n",
       "2000-03-30 22:20:00    0.000000\n",
       "2000-03-30 22:25:00    0.000000\n",
       "2000-03-30 22:30:00    0.000000\n",
       "2000-03-30 22:35:00    0.000000\n",
       "2000-03-30 22:40:00    0.000000\n",
       "2000-03-30 22:45:00    0.000000\n",
       "2000-03-30 22:50:00    0.000000\n",
       "2000-03-30 22:55:00    0.000000\n",
       "2000-03-30 23:00:00    0.000000\n",
       "2000-03-30 23:05:00    0.000000\n",
       "2000-03-30 23:10:00    0.000000\n",
       "2000-03-30 23:15:00    0.000000\n",
       "2000-03-30 23:20:00    0.000000\n",
       "2000-03-30 23:25:00    0.000000\n",
       "2000-03-30 23:30:00    0.000000\n",
       "2000-03-30 23:35:00    0.000000\n",
       "2000-03-30 23:40:00    0.000000\n",
       "2000-03-30 23:45:00    0.000000\n",
       "2000-03-30 23:50:00    0.000000\n",
       "2000-03-30 23:55:00    0.629786\n",
       "Freq: 5T, Length: 17281, dtype: float64"
      ]
     },
     "execution_count": 122,
     "metadata": {},
     "output_type": "execute_result"
    }
   ],
   "source": [
    "ts.resample('5min', closed='right').sum()"
   ]
  },
  {
   "cell_type": "markdown",
   "metadata": {},
   "source": [
    "传入的频率将会以“5分钟”的增量定义面元边界。默认情况下，面元的右边界是包含的，因此00:00到00:05的区间中是包含00:05的。传入closed='left'会让区间以左边界闭合："
   ]
  },
  {
   "cell_type": "code",
   "execution_count": 123,
   "metadata": {
    "ExecuteTime": {
     "end_time": "2019-08-25T06:42:59.775639Z",
     "start_time": "2019-08-25T06:42:59.761993Z"
    },
    "scrolled": true
   },
   "outputs": [
    {
     "data": {
      "text/plain": [
       "2000-01-30 23:55:00    0.477286\n",
       "2000-01-31 00:00:00    0.000000\n",
       "2000-01-31 00:05:00    0.000000\n",
       "2000-01-31 00:10:00    0.000000\n",
       "2000-01-31 00:15:00    0.000000\n",
       "2000-01-31 00:20:00    0.000000\n",
       "2000-01-31 00:25:00    0.000000\n",
       "2000-01-31 00:30:00    0.000000\n",
       "2000-01-31 00:35:00    0.000000\n",
       "2000-01-31 00:40:00    0.000000\n",
       "2000-01-31 00:45:00    0.000000\n",
       "2000-01-31 00:50:00    0.000000\n",
       "2000-01-31 00:55:00    0.000000\n",
       "2000-01-31 01:00:00    0.000000\n",
       "2000-01-31 01:05:00    0.000000\n",
       "2000-01-31 01:10:00    0.000000\n",
       "2000-01-31 01:15:00    0.000000\n",
       "2000-01-31 01:20:00    0.000000\n",
       "2000-01-31 01:25:00    0.000000\n",
       "2000-01-31 01:30:00    0.000000\n",
       "2000-01-31 01:35:00    0.000000\n",
       "2000-01-31 01:40:00    0.000000\n",
       "2000-01-31 01:45:00    0.000000\n",
       "2000-01-31 01:50:00    0.000000\n",
       "2000-01-31 01:55:00    0.000000\n",
       "2000-01-31 02:00:00    0.000000\n",
       "2000-01-31 02:05:00    0.000000\n",
       "2000-01-31 02:10:00    0.000000\n",
       "2000-01-31 02:15:00    0.000000\n",
       "2000-01-31 02:20:00    0.000000\n",
       "                         ...   \n",
       "2000-03-30 21:30:00    0.000000\n",
       "2000-03-30 21:35:00    0.000000\n",
       "2000-03-30 21:40:00    0.000000\n",
       "2000-03-30 21:45:00    0.000000\n",
       "2000-03-30 21:50:00    0.000000\n",
       "2000-03-30 21:55:00    0.000000\n",
       "2000-03-30 22:00:00    0.000000\n",
       "2000-03-30 22:05:00    0.000000\n",
       "2000-03-30 22:10:00    0.000000\n",
       "2000-03-30 22:15:00    0.000000\n",
       "2000-03-30 22:20:00    0.000000\n",
       "2000-03-30 22:25:00    0.000000\n",
       "2000-03-30 22:30:00    0.000000\n",
       "2000-03-30 22:35:00    0.000000\n",
       "2000-03-30 22:40:00    0.000000\n",
       "2000-03-30 22:45:00    0.000000\n",
       "2000-03-30 22:50:00    0.000000\n",
       "2000-03-30 22:55:00    0.000000\n",
       "2000-03-30 23:00:00    0.000000\n",
       "2000-03-30 23:05:00    0.000000\n",
       "2000-03-30 23:10:00    0.000000\n",
       "2000-03-30 23:15:00    0.000000\n",
       "2000-03-30 23:20:00    0.000000\n",
       "2000-03-30 23:25:00    0.000000\n",
       "2000-03-30 23:30:00    0.000000\n",
       "2000-03-30 23:35:00    0.000000\n",
       "2000-03-30 23:40:00    0.000000\n",
       "2000-03-30 23:45:00    0.000000\n",
       "2000-03-30 23:50:00    0.000000\n",
       "2000-03-30 23:55:00    0.629786\n",
       "Freq: 5T, Length: 17281, dtype: float64"
      ]
     },
     "execution_count": 123,
     "metadata": {},
     "output_type": "execute_result"
    }
   ],
   "source": [
    "ts.resample('5min', closed='right').sum()"
   ]
  },
  {
   "cell_type": "markdown",
   "metadata": {
    "ExecuteTime": {
     "end_time": "2019-08-25T06:43:10.895144Z",
     "start_time": "2019-08-25T06:43:10.889259Z"
    }
   },
   "source": [
    "如你所见，最终的时间序列是以各面元右边界的时间戳进行标记的。传入label='right'即可用面元的邮编界对其进行标记："
   ]
  },
  {
   "cell_type": "code",
   "execution_count": 125,
   "metadata": {
    "ExecuteTime": {
     "end_time": "2019-08-25T06:43:26.646861Z",
     "start_time": "2019-08-25T06:43:26.632920Z"
    },
    "scrolled": true
   },
   "outputs": [
    {
     "data": {
      "text/plain": [
       "2000-01-31 00:00:00    0.477286\n",
       "2000-01-31 00:05:00    0.000000\n",
       "2000-01-31 00:10:00    0.000000\n",
       "2000-01-31 00:15:00    0.000000\n",
       "2000-01-31 00:20:00    0.000000\n",
       "2000-01-31 00:25:00    0.000000\n",
       "2000-01-31 00:30:00    0.000000\n",
       "2000-01-31 00:35:00    0.000000\n",
       "2000-01-31 00:40:00    0.000000\n",
       "2000-01-31 00:45:00    0.000000\n",
       "2000-01-31 00:50:00    0.000000\n",
       "2000-01-31 00:55:00    0.000000\n",
       "2000-01-31 01:00:00    0.000000\n",
       "2000-01-31 01:05:00    0.000000\n",
       "2000-01-31 01:10:00    0.000000\n",
       "2000-01-31 01:15:00    0.000000\n",
       "2000-01-31 01:20:00    0.000000\n",
       "2000-01-31 01:25:00    0.000000\n",
       "2000-01-31 01:30:00    0.000000\n",
       "2000-01-31 01:35:00    0.000000\n",
       "2000-01-31 01:40:00    0.000000\n",
       "2000-01-31 01:45:00    0.000000\n",
       "2000-01-31 01:50:00    0.000000\n",
       "2000-01-31 01:55:00    0.000000\n",
       "2000-01-31 02:00:00    0.000000\n",
       "2000-01-31 02:05:00    0.000000\n",
       "2000-01-31 02:10:00    0.000000\n",
       "2000-01-31 02:15:00    0.000000\n",
       "2000-01-31 02:20:00    0.000000\n",
       "2000-01-31 02:25:00    0.000000\n",
       "                         ...   \n",
       "2000-03-30 21:35:00    0.000000\n",
       "2000-03-30 21:40:00    0.000000\n",
       "2000-03-30 21:45:00    0.000000\n",
       "2000-03-30 21:50:00    0.000000\n",
       "2000-03-30 21:55:00    0.000000\n",
       "2000-03-30 22:00:00    0.000000\n",
       "2000-03-30 22:05:00    0.000000\n",
       "2000-03-30 22:10:00    0.000000\n",
       "2000-03-30 22:15:00    0.000000\n",
       "2000-03-30 22:20:00    0.000000\n",
       "2000-03-30 22:25:00    0.000000\n",
       "2000-03-30 22:30:00    0.000000\n",
       "2000-03-30 22:35:00    0.000000\n",
       "2000-03-30 22:40:00    0.000000\n",
       "2000-03-30 22:45:00    0.000000\n",
       "2000-03-30 22:50:00    0.000000\n",
       "2000-03-30 22:55:00    0.000000\n",
       "2000-03-30 23:00:00    0.000000\n",
       "2000-03-30 23:05:00    0.000000\n",
       "2000-03-30 23:10:00    0.000000\n",
       "2000-03-30 23:15:00    0.000000\n",
       "2000-03-30 23:20:00    0.000000\n",
       "2000-03-30 23:25:00    0.000000\n",
       "2000-03-30 23:30:00    0.000000\n",
       "2000-03-30 23:35:00    0.000000\n",
       "2000-03-30 23:40:00    0.000000\n",
       "2000-03-30 23:45:00    0.000000\n",
       "2000-03-30 23:50:00    0.000000\n",
       "2000-03-30 23:55:00    0.000000\n",
       "2000-03-31 00:00:00    0.629786\n",
       "Freq: 5T, Length: 17281, dtype: float64"
      ]
     },
     "execution_count": 125,
     "metadata": {},
     "output_type": "execute_result"
    }
   ],
   "source": [
    "ts.resample('5min', closed='right', label='right').sum()"
   ]
  },
  {
   "cell_type": "code",
   "execution_count": null,
   "metadata": {},
   "outputs": [],
   "source": []
  }
 ],
 "metadata": {
  "kernelspec": {
   "display_name": "Python 3",
   "language": "python",
   "name": "python3"
  },
  "language_info": {
   "codemirror_mode": {
    "name": "ipython",
    "version": 3
   },
   "file_extension": ".py",
   "mimetype": "text/x-python",
   "name": "python",
   "nbconvert_exporter": "python",
   "pygments_lexer": "ipython3",
   "version": "3.7.0"
  },
  "toc": {
   "base_numbering": 1,
   "nav_menu": {},
   "number_sections": true,
   "sideBar": true,
   "skip_h1_title": false,
   "title_cell": "Table of Contents",
   "title_sidebar": "Contents",
   "toc_cell": false,
   "toc_position": {},
   "toc_section_display": true,
   "toc_window_display": false
  },
  "varInspector": {
   "cols": {
    "lenName": 16,
    "lenType": 16,
    "lenVar": 40
   },
   "kernels_config": {
    "python": {
     "delete_cmd_postfix": "",
     "delete_cmd_prefix": "del ",
     "library": "var_list.py",
     "varRefreshCmd": "print(var_dic_list())"
    },
    "r": {
     "delete_cmd_postfix": ") ",
     "delete_cmd_prefix": "rm(",
     "library": "var_list.r",
     "varRefreshCmd": "cat(var_dic_list()) "
    }
   },
   "types_to_exclude": [
    "module",
    "function",
    "builtin_function_or_method",
    "instance",
    "_Feature"
   ],
   "window_display": false
  }
 },
 "nbformat": 4,
 "nbformat_minor": 2
}
